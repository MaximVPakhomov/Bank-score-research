{
 "cells": [
  {
   "cell_type": "markdown",
   "metadata": {},
   "source": [
    "Hello!\n",
    "\n",
    "My name is Karina. Today I'm reviewing your project. Sorry for such a long waiting.\n",
    "\n",
    "Firstly, I'll only mark mistakes, if you have them. I'll give you oppotunity to fix it yourself. Of course, I'll add details if where are any difficulties.\n",
    "\n",
    "Good luck!\n",
    "\n",
    "Please respond to my comments and mark changes using color codes. \n",
    "Below you will find my comments - please do not change them.\n",
    "You can find my comments in green, yellow or red boxes like this:\n",
    "\n",
    "<div class=\"alert alert-block alert-success\">\n",
    "<b>Reviewer's comment</b> <a class=\"tocSkip\"></a>\n",
    "\n",
    "Success. Everything is done succesfully.\n",
    "</div>\n",
    "\n",
    "<div class=\"alert alert-block alert-warning\">\n",
    "<b>Reviewer's comment</b> <a class=\"tocSkip\"></a>\n",
    "\n",
    "Remarks. Some recommendations.\n",
    "</div>\n",
    "\n",
    "<div class=\"alert alert-block alert-danger\">\n",
    "\n",
    "<b>Reviewer's comment</b> <a class=\"tocSkip\"></a>\n",
    "\n",
    "Needs fixing. The block requires some corrections. Work can't be accepted with the red comments.\n",
    "</div>\n",
    "\n",
    "You can answer me by using this:\n",
    "\n",
    "<div class=\"alert alert-block alert-info\">\n",
    "<b>Student answer.</b> <a class=\"tocSkip\"></a>\n",
    "\n",
    "Text here)\n",
    "\n",
    "</div>"
   ]
  },
  {
   "cell_type": "markdown",
   "metadata": {},
   "source": [
    "# Analyzing borrowers’ risk of defaulting\n",
    "\n",
    "Your project is to prepare a report for a bank’s loan division. You’ll need to find out if a customer’s marital status and number of children has an impact on whether they will default on a loan. The bank already has some data on customers’ credit worthiness.\n",
    "\n",
    "Your report will be considered when building the **credit score** of a potential customer. The **credit score** is used to evaluate the ability of a potential borrower to repay their loan.\n",
    "\n",
    "\n",
    "The purpose of this project is to explore the dataset provided with data of the bank customers and find out if a customer’s marital status, number of children and some othe indicatives have an impact on whether they will default on a loan. The project relults will be reported for a bank’s loan division. \n",
    "\n",
    "1. Is there a connection between having kids and repaying a loan on time?\n",
    "2. Is there a connection between marital status and repaying a loan on time?\n",
    "3. Is there a connection between income level and repaying a loan on time?\n",
    "4. How do different loan purposes affect on-time loan repayment?"
   ]
  },
  {
   "cell_type": "markdown",
   "metadata": {},
   "source": [
    "## Open the data file and have a look at the general information. \n"
   ]
  },
  {
   "cell_type": "code",
   "execution_count": 1,
   "metadata": {},
   "outputs": [],
   "source": [
    "# Loading all the libraries\n",
    "import pandas as pd\n",
    "import numpy as np\n",
    "\n",
    "# Load the data\n",
    "data_base = pd.read_csv('/datasets/credit_scoring_eng.csv')"
   ]
  },
  {
   "cell_type": "markdown",
   "metadata": {},
   "source": [
    "<div class=\"alert alert-block alert-success\">\n",
    "<b>Reviewer's comment</b> <a class=\"tocSkip\"></a>\n",
    "\n",
    "   \n",
    "Correct data loading!\n",
    "    \n",
    "</div>    "
   ]
  },
  {
   "cell_type": "markdown",
   "metadata": {},
   "source": [
    "## Task 1. Data exploration\n",
    "\n",
    "**Description of the data**\n",
    "- `children` - the number of children in the family\n",
    "- `days_employed` - work experience in days\n",
    "- `dob_years` - client's age in years\n",
    "- `education` - client's education\n",
    "- `education_id` - education identifier\n",
    "- `family_status` - marital status\n",
    "- `family_status_id` - marital status identifier\n",
    "- `gender` - gender of the client\n",
    "- `income_type` - type of employment\n",
    "- `debt` - was there any debt on loan repayment\n",
    "- `total_income` - monthly income\n",
    "- `purpose` - the purpose of obtaining a loan\n",
    "\n",
    "First we will explore our data in general: to find out the dataframe size and try to check for potential issues with the data throug the first rows. "
   ]
  },
  {
   "cell_type": "code",
   "execution_count": 2,
   "metadata": {
    "scrolled": true
   },
   "outputs": [
    {
     "name": "stdout",
     "output_type": "stream",
     "text": [
      "<class 'pandas.core.frame.DataFrame'>\n",
      "RangeIndex: 21525 entries, 0 to 21524\n",
      "Data columns (total 12 columns):\n",
      " #   Column            Non-Null Count  Dtype  \n",
      "---  ------            --------------  -----  \n",
      " 0   children          21525 non-null  int64  \n",
      " 1   days_employed     19351 non-null  float64\n",
      " 2   dob_years         21525 non-null  int64  \n",
      " 3   education         21525 non-null  object \n",
      " 4   education_id      21525 non-null  int64  \n",
      " 5   family_status     21525 non-null  object \n",
      " 6   family_status_id  21525 non-null  int64  \n",
      " 7   gender            21525 non-null  object \n",
      " 8   income_type       21525 non-null  object \n",
      " 9   debt              21525 non-null  int64  \n",
      " 10  total_income      19351 non-null  float64\n",
      " 11  purpose           21525 non-null  object \n",
      "dtypes: float64(2), int64(5), object(5)\n",
      "memory usage: 2.0+ MB\n"
     ]
    }
   ],
   "source": [
    "# Let's see how many rows and columns our dataset has\n",
    "data_base.info()"
   ]
  },
  {
   "cell_type": "markdown",
   "metadata": {},
   "source": [
    "Our database consists of  21525 entries and 12 columns. Columns names looks fine in terms of sintaxis and data type, however, taking into consideration desription of the data for better understanding it would be better to rename 'dob_years' into 'age', 'total_income' into 'monthly_income' and 'debt' into 'default'.\n",
    "Two columns have missing data: 'days_employed' and 'total_income' and their datatype shoul be changed to integers, as work experience counts in whole days as well as monthly income usually refers as integers.  "
   ]
  },
  {
   "cell_type": "code",
   "execution_count": 3,
   "metadata": {
    "scrolled": true
   },
   "outputs": [
    {
     "data": {
      "text/html": [
       "<div>\n",
       "<style scoped>\n",
       "    .dataframe tbody tr th:only-of-type {\n",
       "        vertical-align: middle;\n",
       "    }\n",
       "\n",
       "    .dataframe tbody tr th {\n",
       "        vertical-align: top;\n",
       "    }\n",
       "\n",
       "    .dataframe thead th {\n",
       "        text-align: right;\n",
       "    }\n",
       "</style>\n",
       "<table border=\"1\" class=\"dataframe\">\n",
       "  <thead>\n",
       "    <tr style=\"text-align: right;\">\n",
       "      <th></th>\n",
       "      <th>children</th>\n",
       "      <th>days_employed</th>\n",
       "      <th>dob_years</th>\n",
       "      <th>education</th>\n",
       "      <th>education_id</th>\n",
       "      <th>family_status</th>\n",
       "      <th>family_status_id</th>\n",
       "      <th>gender</th>\n",
       "      <th>income_type</th>\n",
       "      <th>debt</th>\n",
       "      <th>total_income</th>\n",
       "      <th>purpose</th>\n",
       "    </tr>\n",
       "  </thead>\n",
       "  <tbody>\n",
       "    <tr>\n",
       "      <th>21510</th>\n",
       "      <td>2</td>\n",
       "      <td>NaN</td>\n",
       "      <td>28</td>\n",
       "      <td>secondary education</td>\n",
       "      <td>1</td>\n",
       "      <td>married</td>\n",
       "      <td>0</td>\n",
       "      <td>F</td>\n",
       "      <td>employee</td>\n",
       "      <td>0</td>\n",
       "      <td>NaN</td>\n",
       "      <td>car purchase</td>\n",
       "    </tr>\n",
       "    <tr>\n",
       "      <th>21511</th>\n",
       "      <td>0</td>\n",
       "      <td>-612.569129</td>\n",
       "      <td>29</td>\n",
       "      <td>bachelor's degree</td>\n",
       "      <td>0</td>\n",
       "      <td>civil partnership</td>\n",
       "      <td>1</td>\n",
       "      <td>F</td>\n",
       "      <td>employee</td>\n",
       "      <td>1</td>\n",
       "      <td>22410.956</td>\n",
       "      <td>buying property for renting out</td>\n",
       "    </tr>\n",
       "    <tr>\n",
       "      <th>21512</th>\n",
       "      <td>0</td>\n",
       "      <td>-165.377752</td>\n",
       "      <td>26</td>\n",
       "      <td>bachelor's degree</td>\n",
       "      <td>0</td>\n",
       "      <td>unmarried</td>\n",
       "      <td>4</td>\n",
       "      <td>M</td>\n",
       "      <td>business</td>\n",
       "      <td>0</td>\n",
       "      <td>23568.233</td>\n",
       "      <td>to get a supplementary education</td>\n",
       "    </tr>\n",
       "    <tr>\n",
       "      <th>21513</th>\n",
       "      <td>0</td>\n",
       "      <td>-1166.216789</td>\n",
       "      <td>35</td>\n",
       "      <td>secondary education</td>\n",
       "      <td>1</td>\n",
       "      <td>married</td>\n",
       "      <td>0</td>\n",
       "      <td>F</td>\n",
       "      <td>employee</td>\n",
       "      <td>0</td>\n",
       "      <td>40157.783</td>\n",
       "      <td>purchase of the house</td>\n",
       "    </tr>\n",
       "    <tr>\n",
       "      <th>21514</th>\n",
       "      <td>0</td>\n",
       "      <td>-280.469996</td>\n",
       "      <td>27</td>\n",
       "      <td>some college</td>\n",
       "      <td>2</td>\n",
       "      <td>unmarried</td>\n",
       "      <td>4</td>\n",
       "      <td>M</td>\n",
       "      <td>business</td>\n",
       "      <td>0</td>\n",
       "      <td>56958.145</td>\n",
       "      <td>building a property</td>\n",
       "    </tr>\n",
       "    <tr>\n",
       "      <th>21515</th>\n",
       "      <td>1</td>\n",
       "      <td>-467.685130</td>\n",
       "      <td>28</td>\n",
       "      <td>secondary education</td>\n",
       "      <td>1</td>\n",
       "      <td>married</td>\n",
       "      <td>0</td>\n",
       "      <td>F</td>\n",
       "      <td>employee</td>\n",
       "      <td>1</td>\n",
       "      <td>17517.812</td>\n",
       "      <td>to become educated</td>\n",
       "    </tr>\n",
       "    <tr>\n",
       "      <th>21516</th>\n",
       "      <td>0</td>\n",
       "      <td>-914.391429</td>\n",
       "      <td>42</td>\n",
       "      <td>bachelor's degree</td>\n",
       "      <td>0</td>\n",
       "      <td>married</td>\n",
       "      <td>0</td>\n",
       "      <td>F</td>\n",
       "      <td>business</td>\n",
       "      <td>0</td>\n",
       "      <td>51649.244</td>\n",
       "      <td>purchase of my own house</td>\n",
       "    </tr>\n",
       "    <tr>\n",
       "      <th>21517</th>\n",
       "      <td>0</td>\n",
       "      <td>-404.679034</td>\n",
       "      <td>42</td>\n",
       "      <td>bachelor's degree</td>\n",
       "      <td>0</td>\n",
       "      <td>civil partnership</td>\n",
       "      <td>1</td>\n",
       "      <td>F</td>\n",
       "      <td>business</td>\n",
       "      <td>0</td>\n",
       "      <td>28489.529</td>\n",
       "      <td>buying my own car</td>\n",
       "    </tr>\n",
       "    <tr>\n",
       "      <th>21518</th>\n",
       "      <td>0</td>\n",
       "      <td>373995.710838</td>\n",
       "      <td>59</td>\n",
       "      <td>SECONDARY EDUCATION</td>\n",
       "      <td>1</td>\n",
       "      <td>married</td>\n",
       "      <td>0</td>\n",
       "      <td>F</td>\n",
       "      <td>retiree</td>\n",
       "      <td>0</td>\n",
       "      <td>24618.344</td>\n",
       "      <td>purchase of a car</td>\n",
       "    </tr>\n",
       "    <tr>\n",
       "      <th>21519</th>\n",
       "      <td>1</td>\n",
       "      <td>-2351.431934</td>\n",
       "      <td>37</td>\n",
       "      <td>graduate degree</td>\n",
       "      <td>4</td>\n",
       "      <td>divorced</td>\n",
       "      <td>3</td>\n",
       "      <td>M</td>\n",
       "      <td>employee</td>\n",
       "      <td>0</td>\n",
       "      <td>18551.846</td>\n",
       "      <td>buy commercial real estate</td>\n",
       "    </tr>\n",
       "    <tr>\n",
       "      <th>21520</th>\n",
       "      <td>1</td>\n",
       "      <td>-4529.316663</td>\n",
       "      <td>43</td>\n",
       "      <td>secondary education</td>\n",
       "      <td>1</td>\n",
       "      <td>civil partnership</td>\n",
       "      <td>1</td>\n",
       "      <td>F</td>\n",
       "      <td>business</td>\n",
       "      <td>0</td>\n",
       "      <td>35966.698</td>\n",
       "      <td>housing transactions</td>\n",
       "    </tr>\n",
       "    <tr>\n",
       "      <th>21521</th>\n",
       "      <td>0</td>\n",
       "      <td>343937.404131</td>\n",
       "      <td>67</td>\n",
       "      <td>secondary education</td>\n",
       "      <td>1</td>\n",
       "      <td>married</td>\n",
       "      <td>0</td>\n",
       "      <td>F</td>\n",
       "      <td>retiree</td>\n",
       "      <td>0</td>\n",
       "      <td>24959.969</td>\n",
       "      <td>purchase of a car</td>\n",
       "    </tr>\n",
       "    <tr>\n",
       "      <th>21522</th>\n",
       "      <td>1</td>\n",
       "      <td>-2113.346888</td>\n",
       "      <td>38</td>\n",
       "      <td>secondary education</td>\n",
       "      <td>1</td>\n",
       "      <td>civil partnership</td>\n",
       "      <td>1</td>\n",
       "      <td>M</td>\n",
       "      <td>employee</td>\n",
       "      <td>1</td>\n",
       "      <td>14347.610</td>\n",
       "      <td>property</td>\n",
       "    </tr>\n",
       "    <tr>\n",
       "      <th>21523</th>\n",
       "      <td>3</td>\n",
       "      <td>-3112.481705</td>\n",
       "      <td>38</td>\n",
       "      <td>secondary education</td>\n",
       "      <td>1</td>\n",
       "      <td>married</td>\n",
       "      <td>0</td>\n",
       "      <td>M</td>\n",
       "      <td>employee</td>\n",
       "      <td>1</td>\n",
       "      <td>39054.888</td>\n",
       "      <td>buying my own car</td>\n",
       "    </tr>\n",
       "    <tr>\n",
       "      <th>21524</th>\n",
       "      <td>2</td>\n",
       "      <td>-1984.507589</td>\n",
       "      <td>40</td>\n",
       "      <td>secondary education</td>\n",
       "      <td>1</td>\n",
       "      <td>married</td>\n",
       "      <td>0</td>\n",
       "      <td>F</td>\n",
       "      <td>employee</td>\n",
       "      <td>0</td>\n",
       "      <td>13127.587</td>\n",
       "      <td>to buy a car</td>\n",
       "    </tr>\n",
       "  </tbody>\n",
       "</table>\n",
       "</div>"
      ],
      "text/plain": [
       "       children  days_employed  dob_years            education  education_id  \\\n",
       "21510         2            NaN         28  secondary education             1   \n",
       "21511         0    -612.569129         29    bachelor's degree             0   \n",
       "21512         0    -165.377752         26    bachelor's degree             0   \n",
       "21513         0   -1166.216789         35  secondary education             1   \n",
       "21514         0    -280.469996         27         some college             2   \n",
       "21515         1    -467.685130         28  secondary education             1   \n",
       "21516         0    -914.391429         42    bachelor's degree             0   \n",
       "21517         0    -404.679034         42    bachelor's degree             0   \n",
       "21518         0  373995.710838         59  SECONDARY EDUCATION             1   \n",
       "21519         1   -2351.431934         37      graduate degree             4   \n",
       "21520         1   -4529.316663         43  secondary education             1   \n",
       "21521         0  343937.404131         67  secondary education             1   \n",
       "21522         1   -2113.346888         38  secondary education             1   \n",
       "21523         3   -3112.481705         38  secondary education             1   \n",
       "21524         2   -1984.507589         40  secondary education             1   \n",
       "\n",
       "           family_status  family_status_id gender income_type  debt  \\\n",
       "21510            married                 0      F    employee     0   \n",
       "21511  civil partnership                 1      F    employee     1   \n",
       "21512          unmarried                 4      M    business     0   \n",
       "21513            married                 0      F    employee     0   \n",
       "21514          unmarried                 4      M    business     0   \n",
       "21515            married                 0      F    employee     1   \n",
       "21516            married                 0      F    business     0   \n",
       "21517  civil partnership                 1      F    business     0   \n",
       "21518            married                 0      F     retiree     0   \n",
       "21519           divorced                 3      M    employee     0   \n",
       "21520  civil partnership                 1      F    business     0   \n",
       "21521            married                 0      F     retiree     0   \n",
       "21522  civil partnership                 1      M    employee     1   \n",
       "21523            married                 0      M    employee     1   \n",
       "21524            married                 0      F    employee     0   \n",
       "\n",
       "       total_income                           purpose  \n",
       "21510           NaN                      car purchase  \n",
       "21511     22410.956   buying property for renting out  \n",
       "21512     23568.233  to get a supplementary education  \n",
       "21513     40157.783             purchase of the house  \n",
       "21514     56958.145               building a property  \n",
       "21515     17517.812                to become educated  \n",
       "21516     51649.244          purchase of my own house  \n",
       "21517     28489.529                 buying my own car  \n",
       "21518     24618.344                 purchase of a car  \n",
       "21519     18551.846        buy commercial real estate  \n",
       "21520     35966.698              housing transactions  \n",
       "21521     24959.969                 purchase of a car  \n",
       "21522     14347.610                          property  \n",
       "21523     39054.888                 buying my own car  \n",
       "21524     13127.587                      to buy a car  "
      ]
     },
     "metadata": {},
     "output_type": "display_data"
    }
   ],
   "source": [
    "# let's print the first 15 rows\n",
    "display(data_base.tail(15))"
   ]
  },
  {
   "cell_type": "code",
   "execution_count": 4,
   "metadata": {},
   "outputs": [
    {
     "name": "stdout",
     "output_type": "stream",
     "text": [
      "           children  days_employed     dob_years  education_id  \\\n",
      "count  21525.000000   19351.000000  21525.000000  21525.000000   \n",
      "mean       0.538908   63046.497661     43.293380      0.817236   \n",
      "std        1.381587  140827.311974     12.574584      0.548138   \n",
      "min       -1.000000  -18388.949901      0.000000      0.000000   \n",
      "25%        0.000000   -2747.423625     33.000000      1.000000   \n",
      "50%        0.000000   -1203.369529     42.000000      1.000000   \n",
      "75%        1.000000    -291.095954     53.000000      1.000000   \n",
      "max       20.000000  401755.400475     75.000000      4.000000   \n",
      "\n",
      "       family_status_id          debt   total_income  \n",
      "count      21525.000000  21525.000000   19351.000000  \n",
      "mean           0.972544      0.080883   26787.568355  \n",
      "std            1.420324      0.272661   16475.450632  \n",
      "min            0.000000      0.000000    3306.762000  \n",
      "25%            0.000000      0.000000   16488.504500  \n",
      "50%            0.000000      0.000000   23202.870000  \n",
      "75%            1.000000      0.000000   32549.611000  \n",
      "max            4.000000      1.000000  362496.645000  \n"
     ]
    }
   ],
   "source": [
    "# Let's have a general look at the dataset \n",
    "print(data_base.describe())"
   ]
  },
  {
   "cell_type": "markdown",
   "metadata": {},
   "source": [
    "There are negative and some extraodinary high (20) values in 'children' column.\n",
    "\n",
    "The 'dob_years' column contains 0 age row(s) - this issue should be explored.\n",
    "\n",
    "The 'days_employed' column partially consist of negative values which are impossible in our case. Also it contains some impossible values like 340266 days for row with index=4 or maximum  value of 401750 days (equals to 1100 years), both are many times over the human being abilities. \n",
    "\n",
    "The 'dob_years' columns contains a row(s) with 0 age.\n",
    "\n",
    "The 'education' column containes values both in upper and lower cases. This should be corrected in order to avoid duplications.\n",
    "\n",
    "At a glance at the dataset, it looks like the rows where 'days_employed' is missing tend to be missing a value in the 'total_income' column. We want to check later if this is the case for all rows where 'days_employed' is missing.\n",
    "\n"
   ]
  },
  {
   "cell_type": "code",
   "execution_count": 5,
   "metadata": {
    "scrolled": false
   },
   "outputs": [
    {
     "name": "stdout",
     "output_type": "stream",
     "text": [
      "children               0\n",
      "days_employed       2174\n",
      "dob_years              0\n",
      "education              0\n",
      "education_id           0\n",
      "family_status          0\n",
      "family_status_id       0\n",
      "gender                 0\n",
      "income_type            0\n",
      "debt                   0\n",
      "total_income        2174\n",
      "purpose                0\n",
      "dtype: int64\n"
     ]
    }
   ],
   "source": [
    "# Get info on data\n",
    "print(data_base.isna().sum())"
   ]
  },
  {
   "cell_type": "markdown",
   "metadata": {},
   "source": [
    "Equal amounts of missing values were found in 'days_employed' and 'total_income' columns (2174). We must check if each row containing missing value in one column also contains missing value in another as we can see in the row with index=12.\n",
    "\n",
    "All other columns look fine."
   ]
  },
  {
   "cell_type": "code",
   "execution_count": 6,
   "metadata": {},
   "outputs": [],
   "source": [
    "# Renaming columns for best match Description of the data\n",
    "data_base = data_base.rename(columns = {'dob_years': 'age', 'total_income' : 'monthly_income', 'debt' : 'default'})"
   ]
  },
  {
   "cell_type": "markdown",
   "metadata": {},
   "source": [
    "Now we will check if all columns renamed according to Description of data."
   ]
  },
  {
   "cell_type": "code",
   "execution_count": 7,
   "metadata": {},
   "outputs": [
    {
     "name": "stdout",
     "output_type": "stream",
     "text": [
      "<class 'pandas.core.frame.DataFrame'>\n",
      "RangeIndex: 21525 entries, 0 to 21524\n",
      "Data columns (total 12 columns):\n",
      " #   Column            Non-Null Count  Dtype  \n",
      "---  ------            --------------  -----  \n",
      " 0   children          21525 non-null  int64  \n",
      " 1   days_employed     19351 non-null  float64\n",
      " 2   age               21525 non-null  int64  \n",
      " 3   education         21525 non-null  object \n",
      " 4   education_id      21525 non-null  int64  \n",
      " 5   family_status     21525 non-null  object \n",
      " 6   family_status_id  21525 non-null  int64  \n",
      " 7   gender            21525 non-null  object \n",
      " 8   income_type       21525 non-null  object \n",
      " 9   default           21525 non-null  int64  \n",
      " 10  monthly_income    19351 non-null  float64\n",
      " 11  purpose           21525 non-null  object \n",
      "dtypes: float64(2), int64(5), object(5)\n",
      "memory usage: 2.0+ MB\n",
      "None\n"
     ]
    }
   ],
   "source": [
    "print(data_base.info())\n",
    "raw_data = len(data_base)"
   ]
  },
  {
   "cell_type": "markdown",
   "metadata": {},
   "source": [
    "Now when everyting is fixed with columns names we can try to prove the hypothesis that missing values are located symmetrically in columns 'days_employed' and 'monthly_income'. "
   ]
  },
  {
   "cell_type": "code",
   "execution_count": 8,
   "metadata": {
    "scrolled": true
   },
   "outputs": [
    {
     "name": "stdout",
     "output_type": "stream",
     "text": [
      "<class 'pandas.core.frame.DataFrame'>\n",
      "Int64Index: 2174 entries, 12 to 21510\n",
      "Data columns (total 12 columns):\n",
      " #   Column            Non-Null Count  Dtype  \n",
      "---  ------            --------------  -----  \n",
      " 0   children          2174 non-null   int64  \n",
      " 1   days_employed     0 non-null      float64\n",
      " 2   age               2174 non-null   int64  \n",
      " 3   education         2174 non-null   object \n",
      " 4   education_id      2174 non-null   int64  \n",
      " 5   family_status     2174 non-null   object \n",
      " 6   family_status_id  2174 non-null   int64  \n",
      " 7   gender            2174 non-null   object \n",
      " 8   income_type       2174 non-null   object \n",
      " 9   default           2174 non-null   int64  \n",
      " 10  monthly_income    0 non-null      float64\n",
      " 11  purpose           2174 non-null   object \n",
      "dtypes: float64(2), int64(5), object(5)\n",
      "memory usage: 220.8+ KB\n",
      "\n",
      "[nan]\n"
     ]
    }
   ],
   "source": [
    "# Creating new DataDrame. wich contents only rows with NaN values in 'monthly_income' column\n",
    "is_null = data_base[data_base['monthly_income'].isna()]\n",
    "\n",
    "#Cheking if new DataFrame also contains NaN values in 'days_employed' column\n",
    "is_null.info()\n",
    "print()\n",
    "\n",
    "# Cheking if the days_emplyed values have NaN in the rows, where monthly_income are NaN\n",
    "print(is_null['days_employed'].unique())"
   ]
  },
  {
   "cell_type": "code",
   "execution_count": 9,
   "metadata": {},
   "outputs": [
    {
     "name": "stdout",
     "output_type": "stream",
     "text": [
      "10.099883855981417\n"
     ]
    }
   ],
   "source": [
    "# Cheking the percentage of missing values in the whole dataset.\n",
    "print((len(is_null) / len(data_base))*100)"
   ]
  },
  {
   "cell_type": "markdown",
   "metadata": {},
   "source": [
    "Missing values in columns 'days_emploid' and 'monthly_income' looks perfectly symmetric. The size of the DataFrame filtered on NaN condition (2174) correspondends to the amount of missing values, established before. It may be the result of some technical issue in the whole bunch of entries. Later on these NaN values will be replaced with the mean or median values for the appropriate category."
   ]
  },
  {
   "cell_type": "markdown",
   "metadata": {},
   "source": [
    "**Intermediate conclusion**\n",
    "\n",
    "Missing values in columns 'days_emploid' and 'monthly_income' looks perfectly symmetric. The size of the DataFrame filtered on NaN condition (2174) correspondends to the amount of missing values, established before. This case may be the result of some technical issue in the whole bunch of entries. Later on these NaN values will be replaced with the mean or median values for the appropriate category.\n",
    "\n",
    "Total amount of missing values is about 10% of the whole dataset which is considerably large amount. We need to fill it "
   ]
  },
  {
   "cell_type": "code",
   "execution_count": 10,
   "metadata": {
    "scrolled": true
   },
   "outputs": [
    {
     "name": "stdout",
     "output_type": "stream",
     "text": [
      "Distribution of missing values between income_type\n",
      "business          508\n",
      "civil servant     147\n",
      "employee         1105\n",
      "entrepreneur        1\n",
      "retiree           413\n",
      "Name: income_type, dtype: int64\n",
      "\n",
      "Distribution of values in the whole dataset\n",
      "income_type\n",
      "business                        4577\n",
      "civil servant                   1312\n",
      "employee                       10014\n",
      "entrepreneur                       1\n",
      "paternity / maternity leave        1\n",
      "retiree                         3443\n",
      "student                            1\n",
      "unemployed                         2\n",
      "Name: monthly_income, dtype: int64\n",
      "\n",
      "Distribution of missing values between gender\n",
      "F    1484\n",
      "M     690\n",
      "Name: gender, dtype: int64\n",
      "\n",
      "Distribution of values in the whole dataset\n",
      "gender\n",
      "F      12752\n",
      "M       6598\n",
      "XNA        1\n",
      "Name: monthly_income, dtype: int64\n",
      "\n",
      "Distribution of missing values between education\n",
      "BACHELOR'S DEGREE        23\n",
      "Bachelor's Degree        25\n",
      "PRIMARY EDUCATION         1\n",
      "Primary Education         1\n",
      "SECONDARY EDUCATION      67\n",
      "SOME COLLEGE              7\n",
      "Secondary Education      65\n",
      "Some College              7\n",
      "bachelor's degree       496\n",
      "primary education        19\n",
      "secondary education    1408\n",
      "some college             55\n",
      "Name: education, dtype: int64\n",
      "\n",
      "Distribution of values in the whole dataset\n",
      "education\n",
      "BACHELOR'S DEGREE        251\n",
      "Bachelor's Degree        243\n",
      "GRADUATE DEGREE            1\n",
      "Graduate Degree            1\n",
      "PRIMARY EDUCATION         16\n",
      "Primary Education         14\n",
      "SECONDARY EDUCATION      705\n",
      "SOME COLLEGE              22\n",
      "Secondary Education      646\n",
      "Some College              40\n",
      "bachelor's degree       4222\n",
      "graduate degree            4\n",
      "primary education        231\n",
      "secondary education    12342\n",
      "some college             613\n",
      "Name: monthly_income, dtype: int64\n",
      "\n",
      "Distribution of missing values between purposes\n",
      "building a property                         59\n",
      "building a real estate                      46\n",
      "buy commercial real estate                  67\n",
      "buy real estate                             72\n",
      "buy residential real estate                 61\n",
      "buying a second-hand car                    42\n",
      "buying my own car                           53\n",
      "buying property for renting out             65\n",
      "car                                         41\n",
      "car purchase                                43\n",
      "cars                                        57\n",
      "construction of own property                75\n",
      "education                                   42\n",
      "getting an education                        50\n",
      "getting higher education                    36\n",
      "going to university                         56\n",
      "having a wedding                            92\n",
      "housing                                     60\n",
      "housing renovation                          70\n",
      "housing transactions                        74\n",
      "profile education                           47\n",
      "property                                    62\n",
      "purchase of a car                           46\n",
      "purchase of my own house                    46\n",
      "purchase of the house                       52\n",
      "purchase of the house for my family         71\n",
      "real estate transactions                    61\n",
      "second-hand car purchase                    54\n",
      "supplementary education                     48\n",
      "to become educated                          55\n",
      "to buy a car                                30\n",
      "to get a supplementary education            51\n",
      "to have a wedding                           81\n",
      "to own a car                                52\n",
      "transactions with commercial real estate    70\n",
      "transactions with my real estate            71\n",
      "university education                        40\n",
      "wedding ceremony                            76\n",
      "Name: purpose, dtype: int64\n",
      "\n",
      "Distribution of values in the whole dataset\n",
      "purpose\n",
      "building a property                         561\n",
      "building a real estate                      580\n",
      "buy commercial real estate                  597\n",
      "buy real estate                             552\n",
      "buy residential real estate                 546\n",
      "buying a second-hand car                    437\n",
      "buying my own car                           452\n",
      "buying property for renting out             588\n",
      "car                                         454\n",
      "car purchase                                419\n",
      "cars                                        421\n",
      "construction of own property                560\n",
      "education                                   405\n",
      "getting an education                        393\n",
      "getting higher education                    390\n",
      "going to university                         440\n",
      "having a wedding                            685\n",
      "housing                                     587\n",
      "housing renovation                          542\n",
      "housing transactions                        579\n",
      "profile education                           389\n",
      "property                                    572\n",
      "purchase of a car                           409\n",
      "purchase of my own house                    574\n",
      "purchase of the house                       595\n",
      "purchase of the house for my family         570\n",
      "real estate transactions                    615\n",
      "second-hand car purchase                    435\n",
      "supplementary education                     414\n",
      "to become educated                          357\n",
      "to buy a car                                442\n",
      "to get a supplementary education            396\n",
      "to have a wedding                           693\n",
      "to own a car                                428\n",
      "transactions with commercial real estate    581\n",
      "transactions with my real estate            559\n",
      "university education                        413\n",
      "wedding ceremony                            721\n",
      "Name: monthly_income, dtype: int64\n"
     ]
    }
   ],
   "source": [
    "# Checking distribution of missing values between categorical values\n",
    "\n",
    "print('Distribution of missing values between income_type')\n",
    "print(data_base[data_base['monthly_income'].isna()]['income_type'].value_counts().sort_index())\n",
    "print()\n",
    "print('Distribution of values in the whole dataset')\n",
    "print(data_base.groupby('income_type')['monthly_income'].count().sort_index())\n",
    "print()\n",
    "print('Distribution of missing values between gender')\n",
    "print(data_base[data_base['monthly_income'].isna()]['gender'].value_counts().sort_index())\n",
    "print()\n",
    "print('Distribution of values in the whole dataset')\n",
    "print(data_base.groupby('gender')['monthly_income'].count().sort_index())\n",
    "print()\n",
    "print('Distribution of missing values between education')\n",
    "print(data_base[data_base['monthly_income'].isna()]['education'].value_counts().sort_index())\n",
    "print()\n",
    "print('Distribution of values in the whole dataset')\n",
    "print(data_base.groupby('education')['monthly_income'].count().sort_index().sort_index())\n",
    "print()\n",
    "print('Distribution of missing values between purposes')\n",
    "print(data_base[data_base['monthly_income'].isna()]['purpose'].value_counts().sort_index())\n",
    "print()\n",
    "print('Distribution of values in the whole dataset')\n",
    "print(data_base.groupby('purpose')['monthly_income'].count().sort_index())\n"
   ]
  },
  {
   "cell_type": "markdown",
   "metadata": {},
   "source": [
    "There is no unusal distribution of missing values of monthly_income (as well as symmetrically for days_employed) across all categorical columns in comparison to the distribution in the whole dataset. \n",
    "\n",
    "**Possible reasons for missing values in data**\n",
    "\n",
    "Analisys prove that values were missed randomly, most likely due to technical reason while exporting or importing data in one step - the symmetrical loss of the values from 2174 rows hardly could happen in several iterations.   "
   ]
  },
  {
   "cell_type": "markdown",
   "metadata": {},
   "source": [
    "**Intermediate conclusion**\n",
    "\n",
    "The distribution in the whole dataset is the same that in the filtered table. It means that the values were missed randomly and most likely in one iteration. \n"
   ]
  },
  {
   "cell_type": "markdown",
   "metadata": {},
   "source": [
    "**Conclusions**\n",
    "\n",
    "By filtering missing values in different columns we found out, that missing values are located symmetrically in two collumns: days_employed and monthly_income. There were found no other patterns for missing values. Missing values  \n",
    "\n",
    "The data from days_employed are not our main variables of interest since they are not considered in the tasks of the poject.\n",
    "Total days_employed column consist of impossible and missing values. Missing values in this column will be filled by calculation of maximum days_employed regarding age and gender of each customer. \n",
    "\n",
    "Missing values in monthly_income column will be replaced taking into considaration age and education of the customer.\n",
    "\n",
    "Next step will be fixing letters' registers and removing possible duplications in education column, fixing impossible values in age column, removing artefacts in days_employed column, checking family_status and gender column."
   ]
  },
  {
   "cell_type": "markdown",
   "metadata": {},
   "source": [
    "## Data transformation\n",
    "\n",
    "We will go through every column checking values for correct spelling and possible duplications."
   ]
  },
  {
   "cell_type": "code",
   "execution_count": 11,
   "metadata": {},
   "outputs": [
    {
     "name": "stdout",
     "output_type": "stream",
     "text": [
      "[\"bachelor's degree\" 'secondary education' 'Secondary Education'\n",
      " 'SECONDARY EDUCATION' \"BACHELOR'S DEGREE\" 'some college'\n",
      " 'primary education' \"Bachelor's Degree\" 'SOME COLLEGE' 'Some College'\n",
      " 'PRIMARY EDUCATION' 'Primary Education' 'Graduate Degree'\n",
      " 'GRADUATE DEGREE' 'graduate degree']\n",
      "[0 1 2 3 4]\n"
     ]
    }
   ],
   "source": [
    "# Let's see all values in education and education_id columns to check if and what spellings will need to be fixed\n",
    "print(data_base['education'].unique())\n",
    "print(data_base['education_id'].unique())"
   ]
  },
  {
   "cell_type": "markdown",
   "metadata": {},
   "source": [
    "Some values in the education column contain upper case letters or the combination of upper and a lower case letters.\n",
    "All of them should be replaced with a lower case letters to get the understandings about the exact\n",
    "amount of unique values in this column"
   ]
  },
  {
   "cell_type": "code",
   "execution_count": 12,
   "metadata": {
    "scrolled": true
   },
   "outputs": [],
   "source": [
    "# Fixing data - all values should be in lower case\n",
    "data_base['education'] = data_base['education'].str.lower()"
   ]
  },
  {
   "cell_type": "code",
   "execution_count": 13,
   "metadata": {},
   "outputs": [
    {
     "name": "stdout",
     "output_type": "stream",
     "text": [
      "[\"bachelor's degree\" 'secondary education' 'some college'\n",
      " 'primary education' 'graduate degree']\n",
      "bachelor's degree [0]\n",
      "secondary education [1]\n",
      "some college [2]\n",
      "primary education [3]\n",
      "graduate degree [4]\n"
     ]
    }
   ],
   "source": [
    "# Checking all the values in the column to make sure we fixed them\n",
    "print(data_base['education'].unique())\n",
    "\n",
    "# Cheking that all values correspondance to their id's\n",
    "degrees = [\"bachelor's degree\",'secondary education', 'some college',\n",
    "           'primary education', 'graduate degree']\n",
    "\n",
    "# Define function which help us to check the one-to-one correspondsnce of 'education' to 'education_id'\n",
    "def id_check(education):\n",
    "    for i in education:\n",
    "        print(i, data_base[data_base['education'] == i]['education_id'].unique())\n",
    "\n",
    "#Calling function id_check\n",
    "id_check(degrees)"
   ]
  },
  {
   "cell_type": "markdown",
   "metadata": {},
   "source": [
    "Now everythinf looks fine and one-to-one correspndance established between education and\n",
    "education_id values. We have 5 degrees in total in this category"
   ]
  },
  {
   "cell_type": "markdown",
   "metadata": {},
   "source": [
    "Next step we will check the children column."
   ]
  },
  {
   "cell_type": "code",
   "execution_count": 14,
   "metadata": {
    "scrolled": true
   },
   "outputs": [
    {
     "name": "stdout",
     "output_type": "stream",
     "text": [
      " 0     14149\n",
      " 1      4818\n",
      " 2      2055\n",
      " 3       330\n",
      " 20       76\n",
      "-1        47\n",
      " 4        41\n",
      " 5         9\n",
      "Name: children, dtype: int64\n"
     ]
    }
   ],
   "source": [
    "# Let's see the distribution of values in the `children` column\n",
    "print(data_base['children'].value_counts())"
   ]
  },
  {
   "cell_type": "markdown",
   "metadata": {},
   "source": [
    "There are two issues in the children column: one is completely impossible negative number of children (equals to -1) and another one next to impossible (number of children equals to 20) regarding amount of cases, age of people, having 20 children and absence of entries between 5 and 20 children. Both issues are less then .5% in total data volume and distributed amonth the whole dataset. One can suggest that -1 value in fact belongs to \"one child\" and  20 value belongs to \"two children\" value and were caused by some technical errors."
   ]
  },
  {
   "cell_type": "code",
   "execution_count": 15,
   "metadata": {},
   "outputs": [],
   "source": [
    "# Fixing impossible value -1 to correct value 1\n",
    "data_base['children'].replace(-1, 1, inplace=True)\n",
    "\n",
    "# Fixing erroneus value 20 to correct value 2\n",
    "data_base['children'].replace(20, 2, inplace=True)"
   ]
  },
  {
   "cell_type": "code",
   "execution_count": 16,
   "metadata": {},
   "outputs": [
    {
     "name": "stdout",
     "output_type": "stream",
     "text": [
      "0    14149\n",
      "1     4865\n",
      "2     2131\n",
      "3      330\n",
      "4       41\n",
      "5        9\n",
      "Name: children, dtype: int64\n",
      "\n",
      "<class 'pandas.core.frame.DataFrame'>\n",
      "RangeIndex: 21525 entries, 0 to 21524\n",
      "Data columns (total 12 columns):\n",
      " #   Column            Non-Null Count  Dtype  \n",
      "---  ------            --------------  -----  \n",
      " 0   children          21525 non-null  int64  \n",
      " 1   days_employed     19351 non-null  float64\n",
      " 2   age               21525 non-null  int64  \n",
      " 3   education         21525 non-null  object \n",
      " 4   education_id      21525 non-null  int64  \n",
      " 5   family_status     21525 non-null  object \n",
      " 6   family_status_id  21525 non-null  int64  \n",
      " 7   gender            21525 non-null  object \n",
      " 8   income_type       21525 non-null  object \n",
      " 9   default           21525 non-null  int64  \n",
      " 10  monthly_income    19351 non-null  float64\n",
      " 11  purpose           21525 non-null  object \n",
      "dtypes: float64(2), int64(5), object(5)\n",
      "memory usage: 2.0+ MB\n",
      "None\n"
     ]
    }
   ],
   "source": [
    "# Checking the `children` column again to make sure it's all fixed\n",
    "print(data_base['children'].value_counts())\n",
    "print()\n",
    "print(data_base.info())"
   ]
  },
  {
   "cell_type": "markdown",
   "metadata": {},
   "source": [
    "Now all values in children column looks normally and total amount of entries correponds to dataframe size."
   ]
  },
  {
   "cell_type": "markdown",
   "metadata": {},
   "source": [
    "Now we will work with values of `days_employed` column, which are either totaly impossible or partially incorrect. "
   ]
  },
  {
   "cell_type": "code",
   "execution_count": 17,
   "metadata": {},
   "outputs": [
    {
     "name": "stdout",
     "output_type": "stream",
     "text": [
      "count     19351.000000\n",
      "mean      63046.497661\n",
      "std      140827.311974\n",
      "min      -18388.949901\n",
      "25%       -2747.423625\n",
      "50%       -1203.369529\n",
      "75%        -291.095954\n",
      "max      401755.400475\n",
      "Name: days_employed, dtype: float64\n",
      "\n",
      "Amount of negative values in column:  15906\n",
      "\n",
      "Amount of positive values in column:  3445\n",
      "17.80269753501111\n"
     ]
    }
   ],
   "source": [
    "# Find problematic data in `days_employed`, if they exist, and calculate the percentage\n",
    "print(data_base['days_employed'].describe())\n",
    "negative = data_base[data_base['days_employed'] < 0]['gender'].count()\n",
    "positive = data_base[data_base['days_employed'] >= 0]['gender'].count()\n",
    "print()\n",
    "print(f'Amount of negative values in column: ', negative)\n",
    "print()\n",
    "print(f'Amount of positive values in column: ', positive)\n",
    "print((positive / (negative + positive))*100)"
   ]
  },
  {
   "cell_type": "markdown",
   "metadata": {},
   "source": [
    "Let's see and evaluate the range of the positive values in the `days_employed` column."
   ]
  },
  {
   "cell_type": "code",
   "execution_count": 18,
   "metadata": {},
   "outputs": [
    {
     "name": "stdout",
     "output_type": "stream",
     "text": [
      "          children  days_employed          age  education_id  \\\n",
      "count  3445.000000    3445.000000  3445.000000   3445.000000   \n",
      "mean      0.095791  365004.309916    59.124819      0.914659   \n",
      "std       0.338400   21075.016396     7.580584      0.517103   \n",
      "min       0.000000  328728.720605     0.000000      0.000000   \n",
      "25%       0.000000  346639.413916    56.000000      1.000000   \n",
      "50%       0.000000  365213.306266    60.000000      1.000000   \n",
      "75%       0.000000  383246.444219    64.000000      1.000000   \n",
      "max       4.000000  401755.400475    74.000000      4.000000   \n",
      "\n",
      "       family_status_id      default  monthly_income  \n",
      "count       3445.000000  3445.000000     3445.000000  \n",
      "mean           0.984325     0.052830    21939.856893  \n",
      "std            1.316071     0.223727    12838.753752  \n",
      "min            0.000000     0.000000     3306.762000  \n",
      "25%            0.000000     0.000000    13260.214000  \n",
      "50%            0.000000     0.000000    18962.318000  \n",
      "75%            2.000000     0.000000    27159.402000  \n",
      "max            4.000000     1.000000   117616.523000  \n"
     ]
    }
   ],
   "source": [
    "# Creating dataframe, containing only positive values in days_employed column\n",
    "is_null = data_base[data_base['days_employed'] > 0]\n",
    "print(is_null.describe())"
   ]
  },
  {
   "cell_type": "markdown",
   "metadata": {},
   "source": [
    "There are found 15906 entries with negative value, which is mostly likely a result of technical error and 3445 positive entries. All positive values should be also the result of some technical error, as their values are many times higher then the maximum amount for human beingn life (minimum positive value equals to 900 years). Thus all 100% of values in the column are impossible and may be caused by technical errors while importing or exporting them into final file we are working with. There are number of ways how to deal with this situation:\n",
    "1. To drop this column totally since this data is not required in our project.\n",
    "2. Try to fix impossible values.\n",
    "There are also to ways of fixing data:\n",
    "2.1. To replace all values with new values calculated in connection with gender, age and maximum possible work experience term or\n",
    "2.2. To convert all negative values into positive ones and replace all impossible positive values according to clause 2.1.\n",
    "\n",
    "Since work experince term is not required in our project, but it is usually the key information required by lenders for estimation of the credit score of the borrower it seems important to keep this column and try to replace impossible and missing values on the basis of other criteria and data from the dataset.\n",
    "\n",
    "We will fix values in `days_employed` column in one step together with filling of missing values."
   ]
  },
  {
   "cell_type": "markdown",
   "metadata": {},
   "source": [
    "Now we will try to fix the impossible data in age column. There were entries with 0 age which is impossible for bank customer in our project."
   ]
  },
  {
   "cell_type": "code",
   "execution_count": 19,
   "metadata": {},
   "outputs": [
    {
     "name": "stdout",
     "output_type": "stream",
     "text": [
      "0     101\n",
      "19     14\n",
      "20     51\n",
      "21    111\n",
      "22    183\n",
      "23    254\n",
      "24    264\n",
      "25    357\n",
      "26    408\n",
      "27    493\n",
      "28    503\n",
      "29    545\n",
      "30    540\n",
      "31    560\n",
      "32    510\n",
      "33    581\n",
      "34    603\n",
      "35    617\n",
      "36    555\n",
      "37    537\n",
      "38    598\n",
      "39    573\n",
      "40    609\n",
      "41    607\n",
      "42    597\n",
      "43    513\n",
      "44    547\n",
      "45    497\n",
      "46    475\n",
      "47    480\n",
      "48    538\n",
      "49    508\n",
      "50    514\n",
      "51    448\n",
      "52    484\n",
      "53    459\n",
      "54    479\n",
      "55    443\n",
      "56    487\n",
      "57    460\n",
      "58    461\n",
      "59    444\n",
      "60    377\n",
      "61    355\n",
      "62    352\n",
      "63    269\n",
      "64    265\n",
      "65    194\n",
      "66    183\n",
      "67    167\n",
      "68     99\n",
      "69     85\n",
      "70     65\n",
      "71     58\n",
      "72     33\n",
      "73      8\n",
      "74      6\n",
      "75      1\n",
      "Name: age, dtype: int64\n",
      "\n",
      "gender\n",
      "F      14236\n",
      "M       7288\n",
      "XNA        1\n",
      "Name: age, dtype: int64\n",
      "\n",
      "F    72\n",
      "M    29\n",
      "Name: gender, dtype: int64\n"
     ]
    }
   ],
   "source": [
    "print(data_base['age'].value_counts().sort_index())\n",
    "print()\n",
    "#Let's look for the distribution between genders in the whole and filtered dataframes\n",
    "\n",
    "print(data_base.groupby('gender')['age'].count())\n",
    "print()\n",
    "print(data_base[data_base['age'] == 0]['gender'].value_counts())"
   ]
  },
  {
   "cell_type": "markdown",
   "metadata": {},
   "source": [
    "There are found 101 entries with the 0 age value. Distribution among gender in the filtered dataframe equals to the distribution in the filtered one. This may be a human error, when sombody forgot to enter his age. The amount of 0 entries is very small and we can replace these values with mean value for 29 men (40 years) and 72 women (44 years) since the age is not a topic of our project, but 0 age person could not be subject of credit score. The mean value was chosen because we have pretty simmetric distribution withoгt extraordinary values in this column."
   ]
  },
  {
   "cell_type": "code",
   "execution_count": 20,
   "metadata": {
    "scrolled": true
   },
   "outputs": [
    {
     "name": "stdout",
     "output_type": "stream",
     "text": [
      "Median men age:  40.993825466520306\n",
      "Median women age:  44.47197246417533\n"
     ]
    }
   ],
   "source": [
    "# Check the `dob_years` for suspicious values and count the percentage\n",
    "mean_m = data_base[data_base['gender'] == 'M']['age'].mean()\n",
    "mean_f = data_base[data_base['gender'] == 'F']['age'].mean()\n",
    "print(f'Median men age: ', mean_m)\n",
    "print(f'Median women age: ', mean_f)"
   ]
  },
  {
   "cell_type": "markdown",
   "metadata": {},
   "source": [
    "All our age data are integers in this column so we will replace 0 values with `int(mean)` values for men and women respectively."
   ]
  },
  {
   "cell_type": "code",
   "execution_count": 21,
   "metadata": {
    "scrolled": true
   },
   "outputs": [],
   "source": [
    "# Replacing 0 values in the age column\n",
    "data_base.loc[(data_base['gender'] == 'M') & (data_base['age'] == 0), 'age'] = int(mean_m)                                                                                            \n",
    "data_base.loc[(data_base['gender'] == 'F') &(data_base['age'] == 0), 'age'] = int(mean_f)                                                "
   ]
  },
  {
   "cell_type": "code",
   "execution_count": 22,
   "metadata": {},
   "outputs": [
    {
     "name": "stdout",
     "output_type": "stream",
     "text": [
      "count    21525.000000\n",
      "mean        43.494448\n",
      "std         12.218875\n",
      "min         19.000000\n",
      "25%         34.000000\n",
      "50%         43.000000\n",
      "75%         53.000000\n",
      "max         75.000000\n",
      "Name: age, dtype: float64\n"
     ]
    }
   ],
   "source": [
    "# Checking the result\n",
    "print(data_base['age'].describe())"
   ]
  },
  {
   "cell_type": "markdown",
   "metadata": {},
   "source": [
    "Now the age column containes regular data."
   ]
  },
  {
   "cell_type": "markdown",
   "metadata": {},
   "source": [
    "Now we are going to check the `family_status` column. We will check the unique values to see if there are any issues with texting (lower/upper letters for example) and create the function to check correspondance between `family_status` and `family_status_id`."
   ]
  },
  {
   "cell_type": "code",
   "execution_count": 23,
   "metadata": {
    "scrolled": false
   },
   "outputs": [
    {
     "name": "stdout",
     "output_type": "stream",
     "text": [
      "['married', 'civil partnership', 'widow / widower', 'divorced', 'unmarried']\n",
      "married [0]\n",
      "civil partnership [1]\n",
      "widow / widower [2]\n",
      "divorced [3]\n",
      "unmarried [4]\n"
     ]
    }
   ],
   "source": [
    "# Let's see the values for the column\n",
    "status = data_base['family_status'].unique().tolist()\n",
    "print(status)\n",
    "\n",
    "# Defining function to check correspondance of status with stsus id\n",
    "def id_check(education):\n",
    "    for i in education:\n",
    "        print(i, data_base[data_base['family_status'] == i]['family_status_id'].unique())\n",
    "\n",
    "id_check(status)"
   ]
  },
  {
   "cell_type": "markdown",
   "metadata": {},
   "source": [
    "Hopefully in this column everything is fine and all values unambiguously corresponds to family_status_id."
   ]
  },
  {
   "cell_type": "markdown",
   "metadata": {},
   "source": [
    "Now let's check the gender column - unique values first."
   ]
  },
  {
   "cell_type": "code",
   "execution_count": 24,
   "metadata": {},
   "outputs": [
    {
     "name": "stdout",
     "output_type": "stream",
     "text": [
      "['F' 'M' 'XNA']\n"
     ]
    }
   ],
   "source": [
    "# Let's see the values in the column\n",
    "print(data_base['gender'].unique())"
   ]
  },
  {
   "cell_type": "markdown",
   "metadata": {},
   "source": [
    "In addition to general male and female genders the XNA code was found."
   ]
  },
  {
   "cell_type": "code",
   "execution_count": 25,
   "metadata": {},
   "outputs": [
    {
     "name": "stdout",
     "output_type": "stream",
     "text": [
      "       children  days_employed  age     education  education_id  \\\n",
      "10701         0   -2358.600502   24  some college             2   \n",
      "\n",
      "           family_status  family_status_id gender income_type  default  \\\n",
      "10701  civil partnership                 1    XNA    business        0   \n",
      "\n",
      "       monthly_income          purpose  \n",
      "10701       32624.825  buy real estate  \n"
     ]
    }
   ],
   "source": [
    "# Let's see the entries with XNA value in 'gender'\n",
    "print(data_base[data_base['gender']=='XNA'])"
   ]
  },
  {
   "cell_type": "markdown",
   "metadata": {},
   "source": [
    "There is only one entry found, which could be either human error or the intentional entry since there are more 15 different gender's codes in use in Europe or USA, for example, and we do not know the region these data came from. In any case single entry will not affect on our analysis. "
   ]
  },
  {
   "cell_type": "markdown",
   "metadata": {},
   "source": [
    "Now we will look at the `income_type` column. We will first check the unique values and distribution among the whole dayaframe."
   ]
  },
  {
   "cell_type": "code",
   "execution_count": 26,
   "metadata": {},
   "outputs": [
    {
     "name": "stdout",
     "output_type": "stream",
     "text": [
      "employee                       11119\n",
      "business                        5085\n",
      "retiree                         3856\n",
      "civil servant                   1459\n",
      "entrepreneur                       2\n",
      "unemployed                         2\n",
      "student                            1\n",
      "paternity / maternity leave        1\n",
      "Name: income_type, dtype: int64\n"
     ]
    }
   ],
   "source": [
    "# Let's see the values in the column\n",
    "print(data_base['income_type'].value_counts())"
   ]
  },
  {
   "cell_type": "markdown",
   "metadata": {},
   "source": [
    "We got another column with perfect data. No need to fix anything."
   ]
  },
  {
   "cell_type": "markdown",
   "metadata": {},
   "source": [
    "After fixing all data we now will try to find out are there any duplicates in our dataset."
   ]
  },
  {
   "cell_type": "code",
   "execution_count": 27,
   "metadata": {},
   "outputs": [
    {
     "name": "stdout",
     "output_type": "stream",
     "text": [
      "Number of duplicated rows in the dataset: 71\n"
     ]
    }
   ],
   "source": [
    "# Checking duplicates\n",
    "duplicated_rows = data_base.duplicated().sum()\n",
    "print(f'Number of duplicated rows in the dataset: {duplicated_rows}')"
   ]
  },
  {
   "cell_type": "code",
   "execution_count": 28,
   "metadata": {
    "scrolled": true
   },
   "outputs": [],
   "source": [
    "# Address the duplicates, if they exist\n",
    "data_base.drop_duplicates(inplace=True, ignore_index=True)"
   ]
  },
  {
   "cell_type": "code",
   "execution_count": 29,
   "metadata": {},
   "outputs": [
    {
     "name": "stdout",
     "output_type": "stream",
     "text": [
      "Number of duplicated rows in the dataset: 0\n"
     ]
    }
   ],
   "source": [
    "# Last check whether we have any duplicates\n",
    "\n",
    "print(f'Number of duplicated rows in the dataset: {data_base.duplicated().sum()}')"
   ]
  },
  {
   "cell_type": "markdown",
   "metadata": {},
   "source": [
    "Now our dataframe containes no duplications."
   ]
  },
  {
   "cell_type": "code",
   "execution_count": 30,
   "metadata": {
    "scrolled": true
   },
   "outputs": [
    {
     "name": "stdout",
     "output_type": "stream",
     "text": [
      "<class 'pandas.core.frame.DataFrame'>\n",
      "RangeIndex: 21454 entries, 0 to 21453\n",
      "Data columns (total 12 columns):\n",
      " #   Column            Non-Null Count  Dtype  \n",
      "---  ------            --------------  -----  \n",
      " 0   children          21454 non-null  int64  \n",
      " 1   days_employed     19351 non-null  float64\n",
      " 2   age               21454 non-null  int64  \n",
      " 3   education         21454 non-null  object \n",
      " 4   education_id      21454 non-null  int64  \n",
      " 5   family_status     21454 non-null  object \n",
      " 6   family_status_id  21454 non-null  int64  \n",
      " 7   gender            21454 non-null  object \n",
      " 8   income_type       21454 non-null  object \n",
      " 9   default           21454 non-null  int64  \n",
      " 10  monthly_income    19351 non-null  float64\n",
      " 11  purpose           21454 non-null  object \n",
      "dtypes: float64(2), int64(5), object(5)\n",
      "memory usage: 2.0+ MB\n",
      "None\n",
      "Percentage of lost data: 32.98%\n"
     ]
    }
   ],
   "source": [
    "# Checking the size of the dataset that we now have after you first manipulations with it\n",
    "print(data_base.info())\n",
    "\n",
    "print(f'Percentage of lost data: {((duplicated_rows / raw_data)*100):.2%}')"
   ]
  },
  {
   "cell_type": "markdown",
   "metadata": {},
   "source": [
    "Our new dataset consists of 21454 rows, which means that we had just 0.33% of duplicated entries in the original dataset. It now has 2103 entries with missing values which we have to replace with real data. "
   ]
  },
  {
   "cell_type": "markdown",
   "metadata": {},
   "source": [
    "# Working with missing values"
   ]
  },
  {
   "cell_type": "markdown",
   "metadata": {},
   "source": [
    "### Restoring missing values in `monthly_income`"
   ]
  },
  {
   "cell_type": "markdown",
   "metadata": {},
   "source": [
    "The income value basicly depends on the education, gender, work experience and type of income. In our dataset 17,8% of days_employed values are artefacts and will be replaced with calculated values. So we will take into consideration education, gender and income_type when filling missing values as identified factors. First we will need what identified factors will be more suitable for feeling missing values.\n",
    "\n",
    "Values in monthle_income column have the wide range of valuues - from 3306 up to 362496. Whitin such conditions we will choose mean values within the certain groups for perlacing of missing values.\n",
    "\n",
    "We will start by creating age_category column for the customers. By common practice there will be 10 year intervals in categories. "
   ]
  },
  {
   "cell_type": "code",
   "execution_count": 31,
   "metadata": {},
   "outputs": [],
   "source": [
    "# Let's write a function that calculates the age category\n",
    "\n",
    "def assign_age_category(age):\n",
    "    if age < 20:\n",
    "        return '10-19'\n",
    "    elif 20 <= age < 29:\n",
    "        return '20-29'\n",
    "    elif 30 <= age < 39:\n",
    "        return '30-39'\n",
    "    elif 40 <= age < 49:\n",
    "        return '40-49'\n",
    "    elif 50 <= age < 59:\n",
    "        return '50-59'\n",
    "    elif 60 <= age < 69:\n",
    "        return '60-69'\n",
    "    elif age >= 70:\n",
    "        return '70+'  "
   ]
  },
  {
   "cell_type": "code",
   "execution_count": 32,
   "metadata": {},
   "outputs": [
    {
     "name": "stdout",
     "output_type": "stream",
     "text": [
      "30-39\n",
      "40-49\n",
      "50-59\n"
     ]
    }
   ],
   "source": [
    "# Test if the function works\n",
    "\n",
    "def assign_age_category(age):\n",
    "    if age < 20:\n",
    "        return '10-19'\n",
    "    elif 20 <= age < 30:\n",
    "        return '20-29'\n",
    "    elif 30 <= age < 40:\n",
    "        return '30-39'\n",
    "    elif 40 <= age < 50:\n",
    "        return '40-49'\n",
    "    elif 50 <= age < 60:\n",
    "        return '50-59'\n",
    "    elif 60 <= age < 70:\n",
    "        return '60-69'\n",
    "    elif age >= 70:\n",
    "        return '70+'  \n",
    "\n",
    "print(assign_age_category(34))\n",
    "print(assign_age_category(49))\n",
    "print(assign_age_category(58))"
   ]
  },
  {
   "cell_type": "code",
   "execution_count": 33,
   "metadata": {},
   "outputs": [],
   "source": [
    "# Creating new column based on function\n",
    "data_base['age_category'] = data_base['age'].apply(assign_age_category)"
   ]
  },
  {
   "cell_type": "code",
   "execution_count": 34,
   "metadata": {},
   "outputs": [
    {
     "data": {
      "text/html": [
       "<div>\n",
       "<style scoped>\n",
       "    .dataframe tbody tr th:only-of-type {\n",
       "        vertical-align: middle;\n",
       "    }\n",
       "\n",
       "    .dataframe tbody tr th {\n",
       "        vertical-align: top;\n",
       "    }\n",
       "\n",
       "    .dataframe thead th {\n",
       "        text-align: right;\n",
       "    }\n",
       "</style>\n",
       "<table border=\"1\" class=\"dataframe\">\n",
       "  <thead>\n",
       "    <tr style=\"text-align: right;\">\n",
       "      <th></th>\n",
       "      <th>children</th>\n",
       "      <th>days_employed</th>\n",
       "      <th>age</th>\n",
       "      <th>education</th>\n",
       "      <th>education_id</th>\n",
       "      <th>family_status</th>\n",
       "      <th>family_status_id</th>\n",
       "      <th>gender</th>\n",
       "      <th>income_type</th>\n",
       "      <th>default</th>\n",
       "      <th>monthly_income</th>\n",
       "      <th>purpose</th>\n",
       "      <th>age_category</th>\n",
       "    </tr>\n",
       "  </thead>\n",
       "  <tbody>\n",
       "    <tr>\n",
       "      <th>0</th>\n",
       "      <td>1</td>\n",
       "      <td>-8437.673028</td>\n",
       "      <td>42</td>\n",
       "      <td>bachelor's degree</td>\n",
       "      <td>0</td>\n",
       "      <td>married</td>\n",
       "      <td>0</td>\n",
       "      <td>F</td>\n",
       "      <td>employee</td>\n",
       "      <td>0</td>\n",
       "      <td>40620.102</td>\n",
       "      <td>purchase of the house</td>\n",
       "      <td>40-49</td>\n",
       "    </tr>\n",
       "    <tr>\n",
       "      <th>1</th>\n",
       "      <td>1</td>\n",
       "      <td>-4024.803754</td>\n",
       "      <td>36</td>\n",
       "      <td>secondary education</td>\n",
       "      <td>1</td>\n",
       "      <td>married</td>\n",
       "      <td>0</td>\n",
       "      <td>F</td>\n",
       "      <td>employee</td>\n",
       "      <td>0</td>\n",
       "      <td>17932.802</td>\n",
       "      <td>car purchase</td>\n",
       "      <td>30-39</td>\n",
       "    </tr>\n",
       "    <tr>\n",
       "      <th>2</th>\n",
       "      <td>0</td>\n",
       "      <td>-5623.422610</td>\n",
       "      <td>33</td>\n",
       "      <td>secondary education</td>\n",
       "      <td>1</td>\n",
       "      <td>married</td>\n",
       "      <td>0</td>\n",
       "      <td>M</td>\n",
       "      <td>employee</td>\n",
       "      <td>0</td>\n",
       "      <td>23341.752</td>\n",
       "      <td>purchase of the house</td>\n",
       "      <td>30-39</td>\n",
       "    </tr>\n",
       "    <tr>\n",
       "      <th>3</th>\n",
       "      <td>3</td>\n",
       "      <td>-4124.747207</td>\n",
       "      <td>32</td>\n",
       "      <td>secondary education</td>\n",
       "      <td>1</td>\n",
       "      <td>married</td>\n",
       "      <td>0</td>\n",
       "      <td>M</td>\n",
       "      <td>employee</td>\n",
       "      <td>0</td>\n",
       "      <td>42820.568</td>\n",
       "      <td>supplementary education</td>\n",
       "      <td>30-39</td>\n",
       "    </tr>\n",
       "    <tr>\n",
       "      <th>4</th>\n",
       "      <td>0</td>\n",
       "      <td>340266.072047</td>\n",
       "      <td>53</td>\n",
       "      <td>secondary education</td>\n",
       "      <td>1</td>\n",
       "      <td>civil partnership</td>\n",
       "      <td>1</td>\n",
       "      <td>F</td>\n",
       "      <td>retiree</td>\n",
       "      <td>0</td>\n",
       "      <td>25378.572</td>\n",
       "      <td>to have a wedding</td>\n",
       "      <td>50-59</td>\n",
       "    </tr>\n",
       "    <tr>\n",
       "      <th>5</th>\n",
       "      <td>0</td>\n",
       "      <td>-926.185831</td>\n",
       "      <td>27</td>\n",
       "      <td>bachelor's degree</td>\n",
       "      <td>0</td>\n",
       "      <td>civil partnership</td>\n",
       "      <td>1</td>\n",
       "      <td>M</td>\n",
       "      <td>business</td>\n",
       "      <td>0</td>\n",
       "      <td>40922.170</td>\n",
       "      <td>purchase of the house</td>\n",
       "      <td>20-29</td>\n",
       "    </tr>\n",
       "    <tr>\n",
       "      <th>6</th>\n",
       "      <td>0</td>\n",
       "      <td>-2879.202052</td>\n",
       "      <td>43</td>\n",
       "      <td>bachelor's degree</td>\n",
       "      <td>0</td>\n",
       "      <td>married</td>\n",
       "      <td>0</td>\n",
       "      <td>F</td>\n",
       "      <td>business</td>\n",
       "      <td>0</td>\n",
       "      <td>38484.156</td>\n",
       "      <td>housing transactions</td>\n",
       "      <td>40-49</td>\n",
       "    </tr>\n",
       "    <tr>\n",
       "      <th>7</th>\n",
       "      <td>0</td>\n",
       "      <td>-152.779569</td>\n",
       "      <td>50</td>\n",
       "      <td>secondary education</td>\n",
       "      <td>1</td>\n",
       "      <td>married</td>\n",
       "      <td>0</td>\n",
       "      <td>M</td>\n",
       "      <td>employee</td>\n",
       "      <td>0</td>\n",
       "      <td>21731.829</td>\n",
       "      <td>education</td>\n",
       "      <td>50-59</td>\n",
       "    </tr>\n",
       "    <tr>\n",
       "      <th>8</th>\n",
       "      <td>2</td>\n",
       "      <td>-6929.865299</td>\n",
       "      <td>35</td>\n",
       "      <td>bachelor's degree</td>\n",
       "      <td>0</td>\n",
       "      <td>civil partnership</td>\n",
       "      <td>1</td>\n",
       "      <td>F</td>\n",
       "      <td>employee</td>\n",
       "      <td>0</td>\n",
       "      <td>15337.093</td>\n",
       "      <td>having a wedding</td>\n",
       "      <td>30-39</td>\n",
       "    </tr>\n",
       "    <tr>\n",
       "      <th>9</th>\n",
       "      <td>0</td>\n",
       "      <td>-2188.756445</td>\n",
       "      <td>41</td>\n",
       "      <td>secondary education</td>\n",
       "      <td>1</td>\n",
       "      <td>married</td>\n",
       "      <td>0</td>\n",
       "      <td>M</td>\n",
       "      <td>employee</td>\n",
       "      <td>0</td>\n",
       "      <td>23108.150</td>\n",
       "      <td>purchase of the house for my family</td>\n",
       "      <td>40-49</td>\n",
       "    </tr>\n",
       "  </tbody>\n",
       "</table>\n",
       "</div>"
      ],
      "text/plain": [
       "   children  days_employed  age            education  education_id  \\\n",
       "0         1   -8437.673028   42    bachelor's degree             0   \n",
       "1         1   -4024.803754   36  secondary education             1   \n",
       "2         0   -5623.422610   33  secondary education             1   \n",
       "3         3   -4124.747207   32  secondary education             1   \n",
       "4         0  340266.072047   53  secondary education             1   \n",
       "5         0    -926.185831   27    bachelor's degree             0   \n",
       "6         0   -2879.202052   43    bachelor's degree             0   \n",
       "7         0    -152.779569   50  secondary education             1   \n",
       "8         2   -6929.865299   35    bachelor's degree             0   \n",
       "9         0   -2188.756445   41  secondary education             1   \n",
       "\n",
       "       family_status  family_status_id gender income_type  default  \\\n",
       "0            married                 0      F    employee        0   \n",
       "1            married                 0      F    employee        0   \n",
       "2            married                 0      M    employee        0   \n",
       "3            married                 0      M    employee        0   \n",
       "4  civil partnership                 1      F     retiree        0   \n",
       "5  civil partnership                 1      M    business        0   \n",
       "6            married                 0      F    business        0   \n",
       "7            married                 0      M    employee        0   \n",
       "8  civil partnership                 1      F    employee        0   \n",
       "9            married                 0      M    employee        0   \n",
       "\n",
       "   monthly_income                              purpose age_category  \n",
       "0       40620.102                purchase of the house        40-49  \n",
       "1       17932.802                         car purchase        30-39  \n",
       "2       23341.752                purchase of the house        30-39  \n",
       "3       42820.568              supplementary education        30-39  \n",
       "4       25378.572                    to have a wedding        50-59  \n",
       "5       40922.170                purchase of the house        20-29  \n",
       "6       38484.156                 housing transactions        40-49  \n",
       "7       21731.829                            education        50-59  \n",
       "8       15337.093                     having a wedding        30-39  \n",
       "9       23108.150  purchase of the house for my family        40-49  "
      ]
     },
     "metadata": {},
     "output_type": "display_data"
    }
   ],
   "source": [
    "# Checking values in the new column\n",
    "display(data_base.head(10))"
   ]
  },
  {
   "cell_type": "markdown",
   "metadata": {},
   "source": [
    "We now will create the dataframe without missing values in monthly_income column for calculating values to replace missing values."
   ]
  },
  {
   "cell_type": "code",
   "execution_count": 35,
   "metadata": {},
   "outputs": [
    {
     "data": {
      "text/html": [
       "<div>\n",
       "<style scoped>\n",
       "    .dataframe tbody tr th:only-of-type {\n",
       "        vertical-align: middle;\n",
       "    }\n",
       "\n",
       "    .dataframe tbody tr th {\n",
       "        vertical-align: top;\n",
       "    }\n",
       "\n",
       "    .dataframe thead th {\n",
       "        text-align: right;\n",
       "    }\n",
       "</style>\n",
       "<table border=\"1\" class=\"dataframe\">\n",
       "  <thead>\n",
       "    <tr style=\"text-align: right;\">\n",
       "      <th></th>\n",
       "      <th>children</th>\n",
       "      <th>days_employed</th>\n",
       "      <th>age</th>\n",
       "      <th>education</th>\n",
       "      <th>education_id</th>\n",
       "      <th>family_status</th>\n",
       "      <th>family_status_id</th>\n",
       "      <th>gender</th>\n",
       "      <th>income_type</th>\n",
       "      <th>default</th>\n",
       "      <th>monthly_income</th>\n",
       "      <th>purpose</th>\n",
       "      <th>age_category</th>\n",
       "    </tr>\n",
       "  </thead>\n",
       "  <tbody>\n",
       "    <tr>\n",
       "      <th>0</th>\n",
       "      <td>1</td>\n",
       "      <td>-8437.673028</td>\n",
       "      <td>42</td>\n",
       "      <td>bachelor's degree</td>\n",
       "      <td>0</td>\n",
       "      <td>married</td>\n",
       "      <td>0</td>\n",
       "      <td>F</td>\n",
       "      <td>employee</td>\n",
       "      <td>0</td>\n",
       "      <td>40620.102</td>\n",
       "      <td>purchase of the house</td>\n",
       "      <td>40-49</td>\n",
       "    </tr>\n",
       "    <tr>\n",
       "      <th>1</th>\n",
       "      <td>1</td>\n",
       "      <td>-4024.803754</td>\n",
       "      <td>36</td>\n",
       "      <td>secondary education</td>\n",
       "      <td>1</td>\n",
       "      <td>married</td>\n",
       "      <td>0</td>\n",
       "      <td>F</td>\n",
       "      <td>employee</td>\n",
       "      <td>0</td>\n",
       "      <td>17932.802</td>\n",
       "      <td>car purchase</td>\n",
       "      <td>30-39</td>\n",
       "    </tr>\n",
       "    <tr>\n",
       "      <th>2</th>\n",
       "      <td>0</td>\n",
       "      <td>-5623.422610</td>\n",
       "      <td>33</td>\n",
       "      <td>secondary education</td>\n",
       "      <td>1</td>\n",
       "      <td>married</td>\n",
       "      <td>0</td>\n",
       "      <td>M</td>\n",
       "      <td>employee</td>\n",
       "      <td>0</td>\n",
       "      <td>23341.752</td>\n",
       "      <td>purchase of the house</td>\n",
       "      <td>30-39</td>\n",
       "    </tr>\n",
       "    <tr>\n",
       "      <th>3</th>\n",
       "      <td>3</td>\n",
       "      <td>-4124.747207</td>\n",
       "      <td>32</td>\n",
       "      <td>secondary education</td>\n",
       "      <td>1</td>\n",
       "      <td>married</td>\n",
       "      <td>0</td>\n",
       "      <td>M</td>\n",
       "      <td>employee</td>\n",
       "      <td>0</td>\n",
       "      <td>42820.568</td>\n",
       "      <td>supplementary education</td>\n",
       "      <td>30-39</td>\n",
       "    </tr>\n",
       "    <tr>\n",
       "      <th>4</th>\n",
       "      <td>0</td>\n",
       "      <td>340266.072047</td>\n",
       "      <td>53</td>\n",
       "      <td>secondary education</td>\n",
       "      <td>1</td>\n",
       "      <td>civil partnership</td>\n",
       "      <td>1</td>\n",
       "      <td>F</td>\n",
       "      <td>retiree</td>\n",
       "      <td>0</td>\n",
       "      <td>25378.572</td>\n",
       "      <td>to have a wedding</td>\n",
       "      <td>50-59</td>\n",
       "    </tr>\n",
       "  </tbody>\n",
       "</table>\n",
       "</div>"
      ],
      "text/plain": [
       "   children  days_employed  age            education  education_id  \\\n",
       "0         1   -8437.673028   42    bachelor's degree             0   \n",
       "1         1   -4024.803754   36  secondary education             1   \n",
       "2         0   -5623.422610   33  secondary education             1   \n",
       "3         3   -4124.747207   32  secondary education             1   \n",
       "4         0  340266.072047   53  secondary education             1   \n",
       "\n",
       "       family_status  family_status_id gender income_type  default  \\\n",
       "0            married                 0      F    employee        0   \n",
       "1            married                 0      F    employee        0   \n",
       "2            married                 0      M    employee        0   \n",
       "3            married                 0      M    employee        0   \n",
       "4  civil partnership                 1      F     retiree        0   \n",
       "\n",
       "   monthly_income                  purpose age_category  \n",
       "0       40620.102    purchase of the house        40-49  \n",
       "1       17932.802             car purchase        30-39  \n",
       "2       23341.752    purchase of the house        30-39  \n",
       "3       42820.568  supplementary education        30-39  \n",
       "4       25378.572        to have a wedding        50-59  "
      ]
     },
     "metadata": {},
     "output_type": "display_data"
    },
    {
     "name": "stdout",
     "output_type": "stream",
     "text": [
      "<class 'pandas.core.frame.DataFrame'>\n",
      "Int64Index: 19351 entries, 0 to 21453\n",
      "Data columns (total 13 columns):\n",
      " #   Column            Non-Null Count  Dtype  \n",
      "---  ------            --------------  -----  \n",
      " 0   children          19351 non-null  int64  \n",
      " 1   days_employed     19351 non-null  float64\n",
      " 2   age               19351 non-null  int64  \n",
      " 3   education         19351 non-null  object \n",
      " 4   education_id      19351 non-null  int64  \n",
      " 5   family_status     19351 non-null  object \n",
      " 6   family_status_id  19351 non-null  int64  \n",
      " 7   gender            19351 non-null  object \n",
      " 8   income_type       19351 non-null  object \n",
      " 9   default           19351 non-null  int64  \n",
      " 10  monthly_income    19351 non-null  float64\n",
      " 11  purpose           19351 non-null  object \n",
      " 12  age_category      19351 non-null  object \n",
      "dtypes: float64(2), int64(5), object(6)\n",
      "memory usage: 2.1+ MB\n",
      "None\n"
     ]
    }
   ],
   "source": [
    "# Creating a table without missing values and printing a few of its rows to make sure it looks fine\n",
    "data_base_wout_missing = data_base.dropna()\n",
    "display(data_base_wout_missing.head())\n",
    "print(data_base_wout_missing.info())"
   ]
  },
  {
   "cell_type": "markdown",
   "metadata": {},
   "source": [
    "The dataframe consists of 19351 rows with no missing values.\n",
    "\n",
    "Now we can check wich identified factors abest fit our goal."
   ]
  },
  {
   "cell_type": "code",
   "execution_count": 36,
   "metadata": {
    "scrolled": true
   },
   "outputs": [
    {
     "data": {
      "text/html": [
       "<div>\n",
       "<style scoped>\n",
       "    .dataframe tbody tr th:only-of-type {\n",
       "        vertical-align: middle;\n",
       "    }\n",
       "\n",
       "    .dataframe tbody tr th {\n",
       "        vertical-align: top;\n",
       "    }\n",
       "\n",
       "    .dataframe thead th {\n",
       "        text-align: right;\n",
       "    }\n",
       "</style>\n",
       "<table border=\"1\" class=\"dataframe\">\n",
       "  <thead>\n",
       "    <tr style=\"text-align: right;\">\n",
       "      <th>gender</th>\n",
       "      <th>F</th>\n",
       "      <th>M</th>\n",
       "      <th>XNA</th>\n",
       "    </tr>\n",
       "    <tr>\n",
       "      <th>age_category</th>\n",
       "      <th></th>\n",
       "      <th></th>\n",
       "      <th></th>\n",
       "    </tr>\n",
       "  </thead>\n",
       "  <tbody>\n",
       "    <tr>\n",
       "      <th>10-19</th>\n",
       "      <td>17954.8410</td>\n",
       "      <td>14700.2810</td>\n",
       "      <td>NaN</td>\n",
       "    </tr>\n",
       "    <tr>\n",
       "      <th>20-29</th>\n",
       "      <td>20451.7825</td>\n",
       "      <td>26008.6940</td>\n",
       "      <td>32624.825</td>\n",
       "    </tr>\n",
       "    <tr>\n",
       "      <th>30-39</th>\n",
       "      <td>22328.9650</td>\n",
       "      <td>28161.4955</td>\n",
       "      <td>NaN</td>\n",
       "    </tr>\n",
       "    <tr>\n",
       "      <th>40-49</th>\n",
       "      <td>22672.9320</td>\n",
       "      <td>28401.6975</td>\n",
       "      <td>NaN</td>\n",
       "    </tr>\n",
       "    <tr>\n",
       "      <th>50-59</th>\n",
       "      <td>21028.0100</td>\n",
       "      <td>25703.8170</td>\n",
       "      <td>NaN</td>\n",
       "    </tr>\n",
       "    <tr>\n",
       "      <th>60-69</th>\n",
       "      <td>19431.7180</td>\n",
       "      <td>21472.5740</td>\n",
       "      <td>NaN</td>\n",
       "    </tr>\n",
       "    <tr>\n",
       "      <th>70+</th>\n",
       "      <td>17864.7065</td>\n",
       "      <td>20526.6140</td>\n",
       "      <td>NaN</td>\n",
       "    </tr>\n",
       "  </tbody>\n",
       "</table>\n",
       "</div>"
      ],
      "text/plain": [
       "gender                 F           M        XNA\n",
       "age_category                                   \n",
       "10-19         17954.8410  14700.2810        NaN\n",
       "20-29         20451.7825  26008.6940  32624.825\n",
       "30-39         22328.9650  28161.4955        NaN\n",
       "40-49         22672.9320  28401.6975        NaN\n",
       "50-59         21028.0100  25703.8170        NaN\n",
       "60-69         19431.7180  21472.5740        NaN\n",
       "70+           17864.7065  20526.6140        NaN"
      ]
     },
     "metadata": {},
     "output_type": "display_data"
    }
   ],
   "source": [
    "# Median table for age and gender\n",
    "\n",
    "pivot_table_monthly_income = data_base_wout_missing.pivot_table(\n",
    "                                                                index='age_category',\n",
    "                                                                columns = 'gender',\n",
    "                                                                values = 'monthly_income',\n",
    "                                                                aggfunc='median')\n",
    "display(pivot_table_monthly_income)"
   ]
  },
  {
   "cell_type": "code",
   "execution_count": 37,
   "metadata": {},
   "outputs": [
    {
     "data": {
      "text/html": [
       "<div>\n",
       "<style scoped>\n",
       "    .dataframe tbody tr th:only-of-type {\n",
       "        vertical-align: middle;\n",
       "    }\n",
       "\n",
       "    .dataframe tbody tr th {\n",
       "        vertical-align: top;\n",
       "    }\n",
       "\n",
       "    .dataframe thead th {\n",
       "        text-align: right;\n",
       "    }\n",
       "</style>\n",
       "<table border=\"1\" class=\"dataframe\">\n",
       "  <thead>\n",
       "    <tr style=\"text-align: right;\">\n",
       "      <th>gender</th>\n",
       "      <th>F</th>\n",
       "      <th>M</th>\n",
       "      <th>XNA</th>\n",
       "    </tr>\n",
       "    <tr>\n",
       "      <th>income_type</th>\n",
       "      <th></th>\n",
       "      <th></th>\n",
       "      <th></th>\n",
       "    </tr>\n",
       "  </thead>\n",
       "  <tbody>\n",
       "    <tr>\n",
       "      <th>business</th>\n",
       "      <td>25731.3245</td>\n",
       "      <td>31491.0080</td>\n",
       "      <td>32624.825</td>\n",
       "    </tr>\n",
       "    <tr>\n",
       "      <th>civil servant</th>\n",
       "      <td>21917.1980</td>\n",
       "      <td>29754.3915</td>\n",
       "      <td>NaN</td>\n",
       "    </tr>\n",
       "    <tr>\n",
       "      <th>employee</th>\n",
       "      <td>20898.4980</td>\n",
       "      <td>25945.7880</td>\n",
       "      <td>NaN</td>\n",
       "    </tr>\n",
       "    <tr>\n",
       "      <th>entrepreneur</th>\n",
       "      <td>79866.1030</td>\n",
       "      <td>NaN</td>\n",
       "      <td>NaN</td>\n",
       "    </tr>\n",
       "    <tr>\n",
       "      <th>paternity / maternity leave</th>\n",
       "      <td>8612.6610</td>\n",
       "      <td>NaN</td>\n",
       "      <td>NaN</td>\n",
       "    </tr>\n",
       "    <tr>\n",
       "      <th>retiree</th>\n",
       "      <td>18529.2465</td>\n",
       "      <td>20918.3620</td>\n",
       "      <td>NaN</td>\n",
       "    </tr>\n",
       "    <tr>\n",
       "      <th>student</th>\n",
       "      <td>NaN</td>\n",
       "      <td>15712.2600</td>\n",
       "      <td>NaN</td>\n",
       "    </tr>\n",
       "    <tr>\n",
       "      <th>unemployed</th>\n",
       "      <td>32435.6020</td>\n",
       "      <td>9593.1190</td>\n",
       "      <td>NaN</td>\n",
       "    </tr>\n",
       "  </tbody>\n",
       "</table>\n",
       "</div>"
      ],
      "text/plain": [
       "gender                                F           M        XNA\n",
       "income_type                                                   \n",
       "business                     25731.3245  31491.0080  32624.825\n",
       "civil servant                21917.1980  29754.3915        NaN\n",
       "employee                     20898.4980  25945.7880        NaN\n",
       "entrepreneur                 79866.1030         NaN        NaN\n",
       "paternity / maternity leave   8612.6610         NaN        NaN\n",
       "retiree                      18529.2465  20918.3620        NaN\n",
       "student                             NaN  15712.2600        NaN\n",
       "unemployed                   32435.6020   9593.1190        NaN"
      ]
     },
     "metadata": {},
     "output_type": "display_data"
    }
   ],
   "source": [
    "# Median table for income_type and gender \n",
    "\n",
    "pivot_table_total_income_type_median = data_base_wout_missing.pivot_table(\n",
    "                                                                        index='income_type',\n",
    "                                                                        columns = 'gender',\n",
    "                                                                        values = 'monthly_income',\n",
    "                                                                        aggfunc='median')\n",
    "display(pivot_table_total_income_type_median)"
   ]
  },
  {
   "cell_type": "code",
   "execution_count": 38,
   "metadata": {},
   "outputs": [
    {
     "data": {
      "text/html": [
       "<div>\n",
       "<style scoped>\n",
       "    .dataframe tbody tr th:only-of-type {\n",
       "        vertical-align: middle;\n",
       "    }\n",
       "\n",
       "    .dataframe tbody tr th {\n",
       "        vertical-align: top;\n",
       "    }\n",
       "\n",
       "    .dataframe thead th {\n",
       "        text-align: right;\n",
       "    }\n",
       "</style>\n",
       "<table border=\"1\" class=\"dataframe\">\n",
       "  <thead>\n",
       "    <tr style=\"text-align: right;\">\n",
       "      <th>gender</th>\n",
       "      <th>F</th>\n",
       "      <th>M</th>\n",
       "      <th>XNA</th>\n",
       "    </tr>\n",
       "    <tr>\n",
       "      <th>education</th>\n",
       "      <th></th>\n",
       "      <th></th>\n",
       "      <th></th>\n",
       "    </tr>\n",
       "  </thead>\n",
       "  <tbody>\n",
       "    <tr>\n",
       "      <th>bachelor's degree</th>\n",
       "      <td>26063.4715</td>\n",
       "      <td>32675.8355</td>\n",
       "      <td>NaN</td>\n",
       "    </tr>\n",
       "    <tr>\n",
       "      <th>graduate degree</th>\n",
       "      <td>29345.3940</td>\n",
       "      <td>25161.5835</td>\n",
       "      <td>NaN</td>\n",
       "    </tr>\n",
       "    <tr>\n",
       "      <th>primary education</th>\n",
       "      <td>17223.9615</td>\n",
       "      <td>21204.0860</td>\n",
       "      <td>NaN</td>\n",
       "    </tr>\n",
       "    <tr>\n",
       "      <th>secondary education</th>\n",
       "      <td>20101.2700</td>\n",
       "      <td>25435.5815</td>\n",
       "      <td>NaN</td>\n",
       "    </tr>\n",
       "    <tr>\n",
       "      <th>some college</th>\n",
       "      <td>22836.0820</td>\n",
       "      <td>29973.6640</td>\n",
       "      <td>32624.825</td>\n",
       "    </tr>\n",
       "  </tbody>\n",
       "</table>\n",
       "</div>"
      ],
      "text/plain": [
       "gender                        F           M        XNA\n",
       "education                                             \n",
       "bachelor's degree    26063.4715  32675.8355        NaN\n",
       "graduate degree      29345.3940  25161.5835        NaN\n",
       "primary education    17223.9615  21204.0860        NaN\n",
       "secondary education  20101.2700  25435.5815        NaN\n",
       "some college         22836.0820  29973.6640  32624.825"
      ]
     },
     "metadata": {},
     "output_type": "display_data"
    }
   ],
   "source": [
    "# Median table for education and gender\n",
    "\n",
    "pivot_table_monthly_income_edu_median = data_base_wout_missing.pivot_table(\n",
    "                                                                            index= 'education',\n",
    "                                                                            columns = 'gender',\n",
    "                                                                            values = 'monthly_income',\n",
    "                                                                            aggfunc='median')\n",
    "\n",
    "display(pivot_table_monthly_income_edu_median)"
   ]
  },
  {
   "cell_type": "markdown",
   "metadata": {},
   "source": [
    "Among all tables above the most accurate data, in our opinion, contained in the Median table for education and gender, which contains no NaN values (XNA code equals to just one entry, which contains monthly_income value)."
   ]
  },
  {
   "cell_type": "code",
   "execution_count": 39,
   "metadata": {},
   "outputs": [],
   "source": [
    "#  Defining a function that we will use for filling in missing values\n",
    "def assign_missing_m_i(data_base):\n",
    "    education = data_base['education']\n",
    "    gender = data_base['gender']\n",
    "    if pd.isnull(data_base['monthly_income']):\n",
    "        return pivot_table_monthly_income_edu_median.loc[education, gender]\n",
    "    else:\n",
    "        return data_base['monthly_income']"
   ]
  },
  {
   "cell_type": "code",
   "execution_count": 40,
   "metadata": {},
   "outputs": [
    {
     "name": "stdout",
     "output_type": "stream",
     "text": [
      "25435.5815\n",
      "40620.102\n",
      "20101.27\n",
      "42820.568\n",
      "20101.27\n",
      "20101.27\n",
      "20101.27\n",
      "26063.4715\n"
     ]
    }
   ],
   "source": [
    "# Checking if it works\n",
    "print(assign_missing_m_i(data_base.loc[12]))\n",
    "print(assign_missing_m_i(data_base.loc[0]))\n",
    "print(assign_missing_m_i(data_base.loc[29]))\n",
    "print(assign_missing_m_i(data_base.loc[3]))\n",
    "print(assign_missing_m_i(data_base.loc[21424]))\n",
    "print(assign_missing_m_i(data_base.loc[21431]))\n",
    "print(assign_missing_m_i(data_base.loc[21439]))\n",
    "print(assign_missing_m_i(data_base.loc[21426]))\n"
   ]
  },
  {
   "cell_type": "code",
   "execution_count": 41,
   "metadata": {},
   "outputs": [],
   "source": [
    "# Appling it to every row\n",
    "data_base['monthly_income'] = data_base.apply(assign_missing_m_i, axis=1)"
   ]
  },
  {
   "cell_type": "code",
   "execution_count": 42,
   "metadata": {},
   "outputs": [
    {
     "name": "stdout",
     "output_type": "stream",
     "text": [
      "Total amount of missing values in monthly_income column is 0\n"
     ]
    }
   ],
   "source": [
    "# Checking if we got any errors\n",
    "print(f'Total amount of missing values in monthly_income column is {data_base[\"monthly_income\"].isna().sum()}')"
   ]
  },
  {
   "cell_type": "markdown",
   "metadata": {},
   "source": [
    "Now we have no missing values in the monthly income column and we shall check the number of entries in monthly income column."
   ]
  },
  {
   "cell_type": "code",
   "execution_count": 43,
   "metadata": {},
   "outputs": [
    {
     "name": "stdout",
     "output_type": "stream",
     "text": [
      "<class 'pandas.core.frame.DataFrame'>\n",
      "RangeIndex: 21454 entries, 0 to 21453\n",
      "Data columns (total 13 columns):\n",
      " #   Column            Non-Null Count  Dtype  \n",
      "---  ------            --------------  -----  \n",
      " 0   children          21454 non-null  int64  \n",
      " 1   days_employed     19351 non-null  float64\n",
      " 2   age               21454 non-null  int64  \n",
      " 3   education         21454 non-null  object \n",
      " 4   education_id      21454 non-null  int64  \n",
      " 5   family_status     21454 non-null  object \n",
      " 6   family_status_id  21454 non-null  int64  \n",
      " 7   gender            21454 non-null  object \n",
      " 8   income_type       21454 non-null  object \n",
      " 9   default           21454 non-null  int64  \n",
      " 10  monthly_income    21454 non-null  float64\n",
      " 11  purpose           21454 non-null  object \n",
      " 12  age_category      21454 non-null  object \n",
      "dtypes: float64(2), int64(5), object(6)\n",
      "memory usage: 2.1+ MB\n",
      "None\n"
     ]
    }
   ],
   "source": [
    "# Checking the number of entries in the columns\n",
    "print(data_base.info())"
   ]
  },
  {
   "cell_type": "markdown",
   "metadata": {},
   "source": [
    "Total amount of entries in monthly_income column corresponds to our dataframe size."
   ]
  },
  {
   "cell_type": "markdown",
   "metadata": {},
   "source": [
    "###  Restoring values in `days_employed`"
   ]
  },
  {
   "cell_type": "markdown",
   "metadata": {},
   "source": [
    "Since we have found, that all values in days_employed column are impossible, we will restore values in this column based on the following principles. We assume maximum retire age for men as 60 years and 55 years fo women. We assume that starting age for the purpose of our research should be lower then minimum age from age column of our dataset and equals to 16 years.\n",
    "\n",
    "All negative values in the column shoud be converted to positive ones with the same absolute value, while all positive values will be treated as follows: if age is less then retire age, days_employed value will be calculated based on the gender and actual age, assuming that client starteв to work at the start age. For ages higher then retire age the employed_age value will be equal to the maximim work experience term, taking gender into considaration.  \n"
   ]
  },
  {
   "cell_type": "code",
   "execution_count": 44,
   "metadata": {},
   "outputs": [
    {
     "name": "stdout",
     "output_type": "stream",
     "text": [
      "16060\n",
      "14235\n"
     ]
    }
   ],
   "source": [
    "# Let's write a function that assigns values in the days_employed column\n",
    "\n",
    "men_retire_age = 60\n",
    "start_age = 16\n",
    "women_retire_age = 55\n",
    "\n",
    "max_work_experience_m = (men_retire_age - start_age) * 365\n",
    "max_work_experience_f = (women_retire_age - start_age) * 365   \n",
    "\n",
    "print(max_work_experience_m)\n",
    "print(max_work_experience_f)\n",
    "\n",
    "def work_experience_fill(data_base):\n",
    "    if data_base['days_employed'] < 0:\n",
    "        return abs(data_base['days_employed'])       \n",
    "    elif pd.isnull(data_base['days_employed']):\n",
    "        if data_base['gender'] == 'M':\n",
    "            if data_base['age'] < men_retire_age:\n",
    "                return (data_base['age'] - start_age) * 365\n",
    "            return max_work_experience_m\n",
    "        elif data_base['gender'] == 'F':\n",
    "            if data_base['age'] < women_retire_age:\n",
    "                return (data_base['age'] - start_age) * 365\n",
    "            return max_work_experience_f        \n",
    "    else:\n",
    "        if data_base['gender'] == 'M' and data_base['days_employed'] > max_work_experience_m:\n",
    "            if data_base['age'] < men_retire_age:\n",
    "                return (data_base['age'] - start_age) * 365\n",
    "            return max_work_experience_m\n",
    "        elif data_base['gender'] == 'F' and data_base['days_employed'] > max_work_experience_f:\n",
    "            if data_base['age'] < women_retire_age:\n",
    "                return (data_base['age'] - start_age) * 365\n",
    "            return max_work_experience_f"
   ]
  },
  {
   "cell_type": "markdown",
   "metadata": {},
   "source": [
    "Let's check if the function works correct for the values from our dataset."
   ]
  },
  {
   "cell_type": "code",
   "execution_count": 45,
   "metadata": {},
   "outputs": [
    {
     "name": "stdout",
     "output_type": "stream",
     "text": [
      "4024.803753850451\n",
      "9125\n",
      "13505\n",
      "16060\n"
     ]
    }
   ],
   "source": [
    "# Checking that the function works\n",
    "\n",
    "print(work_experience_fill(data_base.loc[1]))\n",
    "print(work_experience_fill(data_base.loc[26]))\n",
    "print(work_experience_fill(data_base.loc[4]))\n",
    "print(work_experience_fill(data_base.loc[25]))\n"
   ]
  },
  {
   "cell_type": "markdown",
   "metadata": {},
   "source": [
    "The function works correct and it may be applied to all rows of the dataframe."
   ]
  },
  {
   "cell_type": "code",
   "execution_count": 46,
   "metadata": {},
   "outputs": [],
   "source": [
    "# Apply function to the every row of 'days_employed' column\n",
    "data_base['days_employed'] = data_base.apply(work_experience_fill, axis=1)"
   ]
  },
  {
   "cell_type": "code",
   "execution_count": 47,
   "metadata": {},
   "outputs": [
    {
     "name": "stdout",
     "output_type": "stream",
     "text": [
      "0\n",
      "children            0\n",
      "days_employed       0\n",
      "age                 0\n",
      "education           0\n",
      "education_id        0\n",
      "family_status       0\n",
      "family_status_id    0\n",
      "gender              0\n",
      "income_type         0\n",
      "default             0\n",
      "monthly_income      0\n",
      "purpose             0\n",
      "age_category        0\n",
      "dtype: int64\n"
     ]
    }
   ],
   "source": [
    "# Check if function worked\n",
    "print(data_base['days_employed'].isnull().sum())\n",
    "print(data_base.isnull().sum())"
   ]
  },
  {
   "cell_type": "markdown",
   "metadata": {},
   "source": [
    "Now all missing and impossible values in the dataset are fixed. We can change datatype of days_employed and monthly_income columns to int."
   ]
  },
  {
   "cell_type": "code",
   "execution_count": 48,
   "metadata": {},
   "outputs": [],
   "source": [
    "# Changing datatype\n",
    "data_base = data_base.astype({'days_employed' : 'int', 'monthly_income' : 'int'})"
   ]
  },
  {
   "cell_type": "markdown",
   "metadata": {},
   "source": [
    "We now need to check that the size of the dataframe and general information."
   ]
  },
  {
   "cell_type": "code",
   "execution_count": 49,
   "metadata": {
    "scrolled": false
   },
   "outputs": [
    {
     "name": "stdout",
     "output_type": "stream",
     "text": [
      "<class 'pandas.core.frame.DataFrame'>\n",
      "RangeIndex: 21454 entries, 0 to 21453\n",
      "Data columns (total 13 columns):\n",
      " #   Column            Non-Null Count  Dtype \n",
      "---  ------            --------------  ----- \n",
      " 0   children          21454 non-null  int64 \n",
      " 1   days_employed     21454 non-null  int64 \n",
      " 2   age               21454 non-null  int64 \n",
      " 3   education         21454 non-null  object\n",
      " 4   education_id      21454 non-null  int64 \n",
      " 5   family_status     21454 non-null  object\n",
      " 6   family_status_id  21454 non-null  int64 \n",
      " 7   gender            21454 non-null  object\n",
      " 8   income_type       21454 non-null  object\n",
      " 9   default           21454 non-null  int64 \n",
      " 10  monthly_income    21454 non-null  int64 \n",
      " 11  purpose           21454 non-null  object\n",
      " 12  age_category      21454 non-null  object\n",
      "dtypes: int64(7), object(6)\n",
      "memory usage: 2.1+ MB\n",
      "None\n",
      "\n",
      "           children  days_employed           age  education_id  \\\n",
      "count  21454.000000   21454.000000  21454.000000  21454.000000   \n",
      "mean       0.480563    4959.674839     43.472965      0.817097   \n",
      "std        0.756069    5133.653182     12.214169      0.548674   \n",
      "min        0.000000      24.000000     19.000000      0.000000   \n",
      "25%        0.000000    1023.000000     33.000000      1.000000   \n",
      "50%        0.000000    2562.000000     43.000000      1.000000   \n",
      "75%        1.000000    7993.500000     53.000000      1.000000   \n",
      "max        5.000000   18388.000000     75.000000      4.000000   \n",
      "\n",
      "       family_status_id       default  monthly_income  \n",
      "count      21454.000000  21454.000000    21454.000000  \n",
      "mean           0.973898      0.081150    26467.241540  \n",
      "std            1.421567      0.273072    15724.194535  \n",
      "min            0.000000      0.000000     3306.000000  \n",
      "25%            0.000000      0.000000    17219.500000  \n",
      "50%            0.000000      0.000000    23180.000000  \n",
      "75%            1.000000      0.000000    31700.500000  \n",
      "max            4.000000      1.000000   362496.000000  \n"
     ]
    }
   ],
   "source": [
    "# Check the entries in all columns - make sure we fixed all missing values\n",
    "print(data_base.info())\n",
    "print()\n",
    "print(data_base.describe())"
   ]
  },
  {
   "cell_type": "markdown",
   "metadata": {},
   "source": [
    "All columns of the dataframe now have correct values and no missing values."
   ]
  },
  {
   "cell_type": "markdown",
   "metadata": {},
   "source": [
    "## Categorization of data"
   ]
  },
  {
   "cell_type": "markdown",
   "metadata": {
    "scrolled": true
   },
   "source": [
    "The questions that we have to answer in this project requares us to categorize our data since nearly all columns have two many unique values for correct analysis. We need to assing the appropriate categories to: `children` column, `family_status` column, `income_level` column and `purpose` column\n",
    "    \n",
    "Categorizations process we will start from text data following by numeric data columns. "
   ]
  },
  {
   "cell_type": "markdown",
   "metadata": {},
   "source": [
    "First of all we will check the ubique values in all columns (except monthly_income, which has too many unique values)"
   ]
  },
  {
   "cell_type": "code",
   "execution_count": 50,
   "metadata": {},
   "outputs": [
    {
     "name": "stdout",
     "output_type": "stream",
     "text": [
      "married              12339\n",
      "civil partnership     4151\n",
      "unmarried             2810\n",
      "divorced              1195\n",
      "widow / widower        959\n",
      "Name: family_status, dtype: int64\n",
      "\n",
      "wedding ceremony                            791\n",
      "having a wedding                            768\n",
      "to have a wedding                           765\n",
      "real estate transactions                    675\n",
      "buy commercial real estate                  661\n",
      "housing transactions                        652\n",
      "buying property for renting out             651\n",
      "transactions with commercial real estate    650\n",
      "purchase of the house                       646\n",
      "housing                                     646\n",
      "purchase of the house for my family         638\n",
      "construction of own property                635\n",
      "property                                    633\n",
      "transactions with my real estate            627\n",
      "building a real estate                      624\n",
      "buy real estate                             621\n",
      "purchase of my own house                    620\n",
      "building a property                         619\n",
      "housing renovation                          607\n",
      "buy residential real estate                 606\n",
      "buying my own car                           505\n",
      "going to university                         496\n",
      "car                                         494\n",
      "second-hand car purchase                    486\n",
      "cars                                        478\n",
      "to own a car                                478\n",
      "buying a second-hand car                    478\n",
      "to buy a car                                471\n",
      "car purchase                                461\n",
      "supplementary education                     460\n",
      "purchase of a car                           455\n",
      "university education                        452\n",
      "education                                   447\n",
      "to get a supplementary education            446\n",
      "getting an education                        442\n",
      "profile education                           436\n",
      "getting higher education                    426\n",
      "to become educated                          408\n",
      "Name: purpose, dtype: int64\n",
      "\n",
      "0    14091\n",
      "1     4855\n",
      "2     2128\n",
      "3      330\n",
      "4       41\n",
      "5        9\n",
      "Name: children, dtype: int64\n"
     ]
    }
   ],
   "source": [
    "# Check the unique values\n",
    "print(data_base['family_status'].value_counts())\n",
    "print()\n",
    "print(data_base['purpose'].value_counts())\n",
    "print()\n",
    "print(data_base['children'].value_counts())"
   ]
  },
  {
   "cell_type": "markdown",
   "metadata": {},
   "source": [
    "\n",
    "# Martial status"
   ]
  },
  {
   "cell_type": "markdown",
   "metadata": {},
   "source": [
    "Martial status (family_status column) has only 5 unique values which hardly could be categorized and could serve as categories as they are."
   ]
  },
  {
   "cell_type": "markdown",
   "metadata": {},
   "source": [
    "# Purpose"
   ]
  },
  {
   "cell_type": "markdown",
   "metadata": {},
   "source": [
    "Since the column purpose of the loan seems to have the free type of text values (in comparison to family_status and education columns) it may contain one and the same purpose expressed in different words, for example all purpose values wich contain the word \"wedding\" are actually refers to the loan for wedding preparations. This is also true for all purpose values, which contains \"car\" - all of them are actually car loans. Education category includes all values, which contain words education (in all forms) and univercity. \n",
    "\n",
    "The situation with real estate loan purpose values is a little bit more complicated. We can define 4 major categories of loan purposes: \n",
    "financing of residential real estate (purchase of the house for my family, purchase of my own house, buy residential real estate); \n",
    "financing of commercial real estate (buy commercial real estate, buying property for renting out, transactions with commercial real estate); \n",
    "financing of construction and reconstruction/rennovation of real estate (construction of own property, building a property, building a real estate, housing renovation) and \n",
    "other purposes, which are not clearly defined (housing, real estate transactions, transactions with my real estate, etc.)  "
   ]
  },
  {
   "cell_type": "code",
   "execution_count": 51,
   "metadata": {},
   "outputs": [],
   "source": [
    "# Let's pregroup purpose column for the values referring to real estate\n",
    "data_base['purpose'].replace(['buy commercial real estate', 'buying property for renting out',\n",
    "                                                     'transactions with commercial real estate'], \n",
    "                                                     'commercial real estate', inplace=True) \n",
    "\n",
    "data_base['purpose'].replace(['construction of own property', 'building a property', \n",
    "                                                     'building a real estate', 'housing renovation'], \n",
    "                                                     'construction and rennovation', inplace=True)\n",
    "\n",
    "data_base['purpose'].replace(['purchase of the house for my family', 'purchase of my own house', \n",
    "                                                     'buy residential real estate'], 'residential real estate', \n",
    "                                                    inplace=True)       \n",
    "\n",
    "data_base['purpose'].replace(['real estate transactions', 'housing transactions', \n",
    "                                                     'purchase of the house', 'housing', 'property', \n",
    "                                                     'transactions with my real estate', 'buy real estate'], \n",
    "                                                     'other real estate', inplace=True)"
   ]
  },
  {
   "cell_type": "code",
   "execution_count": 52,
   "metadata": {},
   "outputs": [
    {
     "name": "stdout",
     "output_type": "stream",
     "text": [
      "other real estate                   4500\n",
      "construction and rennovation        2485\n",
      "commercial real estate              1962\n",
      "residential real estate             1864\n",
      "wedding ceremony                     791\n",
      "having a wedding                     768\n",
      "to have a wedding                    765\n",
      "buying my own car                    505\n",
      "going to university                  496\n",
      "car                                  494\n",
      "second-hand car purchase             486\n",
      "cars                                 478\n",
      "to own a car                         478\n",
      "buying a second-hand car             478\n",
      "to buy a car                         471\n",
      "car purchase                         461\n",
      "supplementary education              460\n",
      "purchase of a car                    455\n",
      "university education                 452\n",
      "education                            447\n",
      "to get a supplementary education     446\n",
      "getting an education                 442\n",
      "profile education                    436\n",
      "getting higher education             426\n",
      "to become educated                   408\n",
      "Name: purpose, dtype: int64\n"
     ]
    }
   ],
   "source": [
    "# Let's check the pregroupped purposes\n",
    "print(data_base['purpose'].value_counts())"
   ]
  },
  {
   "cell_type": "markdown",
   "metadata": {},
   "source": [
    "Now the real estate section of the purpose column looks more accurate and more informative and we can categorize the rest values into following categorises: car loans, wedding and education."
   ]
  },
  {
   "cell_type": "code",
   "execution_count": 53,
   "metadata": {},
   "outputs": [],
   "source": [
    "# Let's write a function for assigning purpose to major caterories\n",
    "def assign_purpose_category(purpose):\n",
    "    if 'car' in purpose:\n",
    "        return 'car loan'\n",
    "    elif 'wedding' in purpose:\n",
    "        return 'wedding'\n",
    "    elif 'educat' in purpose or 'university' in purpose:\n",
    "        return 'education'\n",
    "    elif 'construction and rennovation' in purpose:\n",
    "        return 'construction and rennovation'    \n",
    "    elif 'commercial' in purpose:\n",
    "        return 'commercial real estate'    \n",
    "    elif 'residential' in purpose:\n",
    "        return 'residentail real estate'        \n",
    "    elif 'other real estate'in purpose:\n",
    "        return 'other real estate'\n",
    "    else:\n",
    "        return 'other'"
   ]
  },
  {
   "cell_type": "code",
   "execution_count": 54,
   "metadata": {
    "scrolled": true
   },
   "outputs": [
    {
     "name": "stdout",
     "output_type": "stream",
     "text": [
      "residentail real estate\n",
      "wedding\n",
      "car loan\n",
      "commercial real estate\n",
      "education\n",
      "construction and rennovation\n",
      "other real estate\n",
      "education\n",
      "car loan\n"
     ]
    }
   ],
   "source": [
    "# Check if it works\n",
    "\n",
    "print(assign_purpose_category('buy residential real estate'))\n",
    "print(assign_purpose_category('for a wedding'))\n",
    "print(assign_purpose_category('buy a second hand car'))\n",
    "print(assign_purpose_category('buy a commercial real estate'))\n",
    "print(assign_purpose_category('for university'))\n",
    "print(assign_purpose_category('construction and rennovation'))\n",
    "print(assign_purpose_category('other real estate'))\n",
    "print(assign_purpose_category('to get a supplementary education'))\n",
    "print(assign_purpose_category('cars'))"
   ]
  },
  {
   "cell_type": "code",
   "execution_count": 55,
   "metadata": {},
   "outputs": [],
   "source": [
    "# Appling to each row\n",
    "data_base['purpose_category'] = data_base['purpose'].apply(assign_purpose_category)"
   ]
  },
  {
   "cell_type": "code",
   "execution_count": 56,
   "metadata": {},
   "outputs": [
    {
     "name": "stdout",
     "output_type": "stream",
     "text": [
      "<class 'pandas.core.frame.DataFrame'>\n",
      "RangeIndex: 21454 entries, 0 to 21453\n",
      "Data columns (total 14 columns):\n",
      " #   Column            Non-Null Count  Dtype \n",
      "---  ------            --------------  ----- \n",
      " 0   children          21454 non-null  int64 \n",
      " 1   days_employed     21454 non-null  int64 \n",
      " 2   age               21454 non-null  int64 \n",
      " 3   education         21454 non-null  object\n",
      " 4   education_id      21454 non-null  int64 \n",
      " 5   family_status     21454 non-null  object\n",
      " 6   family_status_id  21454 non-null  int64 \n",
      " 7   gender            21454 non-null  object\n",
      " 8   income_type       21454 non-null  object\n",
      " 9   default           21454 non-null  int64 \n",
      " 10  monthly_income    21454 non-null  int64 \n",
      " 11  purpose           21454 non-null  object\n",
      " 12  age_category      21454 non-null  object\n",
      " 13  purpose_category  21454 non-null  object\n",
      "dtypes: int64(7), object(7)\n",
      "memory usage: 2.3+ MB\n",
      "None\n"
     ]
    }
   ],
   "source": [
    "# Chek total info\n",
    "print(data_base.info())"
   ]
  },
  {
   "cell_type": "markdown",
   "metadata": {},
   "source": [
    "All columns in new dataframe are of the same size."
   ]
  },
  {
   "cell_type": "code",
   "execution_count": 57,
   "metadata": {},
   "outputs": [
    {
     "name": "stdout",
     "output_type": "stream",
     "text": [
      "other real estate               4500\n",
      "car loan                        4306\n",
      "education                       4013\n",
      "construction and rennovation    2485\n",
      "wedding                         2324\n",
      "commercial real estate          1962\n",
      "residentail real estate         1864\n",
      "Name: purpose_category, dtype: int64\n"
     ]
    }
   ],
   "source": [
    "print(data_base['purpose_category'].value_counts())"
   ]
  },
  {
   "cell_type": "markdown",
   "metadata": {},
   "source": [
    "Now we have the appropriate amount of categories which covers all major financial activities of the customers: morgage, construction and rennovation of real estate, commercial real estate financing, wedddings preparations, financing of education and car loans.  "
   ]
  },
  {
   "cell_type": "markdown",
   "metadata": {},
   "source": [
    "# Income level \n",
    "\n",
    "\n"
   ]
  },
  {
   "cell_type": "markdown",
   "metadata": {},
   "source": [
    "Typical categorization of income levels refers to 3 levels - low, middle and high. Since we do not know exactly the region and the currency represented in our selection we can rely on the definition of the middle class income level boundaries, thus defining simaltaneously other two levels: low level is less, then lower boundary and high level is higher then upper bondary of middle level. \n",
    "\n",
    "According to the most common economic theories the middle class income qualifies between 75% and 125% of the median income in the region. So we can calculate the median of the `monthly_income` column values and define the categories' values."
   ]
  },
  {
   "cell_type": "code",
   "execution_count": 58,
   "metadata": {},
   "outputs": [
    {
     "name": "stdout",
     "output_type": "stream",
     "text": [
      "23180.0\n"
     ]
    }
   ],
   "source": [
    "# Calculating monthly_income column median\n",
    "print(data_base['monthly_income'].median())"
   ]
  },
  {
   "cell_type": "code",
   "execution_count": 59,
   "metadata": {},
   "outputs": [],
   "source": [
    "# Let's write a function to categorize the income level \n",
    "middle_class_low_boundary = 0.75\n",
    "middle_class_high_boundary = 1.25\n",
    "\n",
    "def assign_monthly_income_category(monthly_income):\n",
    "    \n",
    "    middle_class_low = data_base['monthly_income'].median() * middle_class_low_boundary\n",
    "    middle_class_high = data_base['monthly_income'].median() * middle_class_high_boundary\n",
    "\n",
    "    if monthly_income <= middle_class_low:\n",
    "        return 'low'\n",
    "    elif middle_class_low < monthly_income <= middle_class_high:\n",
    "        return \"middle\"\n",
    "    else:\n",
    "        return \"high\""
   ]
  },
  {
   "cell_type": "markdown",
   "metadata": {},
   "source": [
    "Now we need to check how the function works."
   ]
  },
  {
   "cell_type": "code",
   "execution_count": 60,
   "metadata": {},
   "outputs": [
    {
     "name": "stdout",
     "output_type": "stream",
     "text": [
      "low\n",
      "middle\n",
      "high\n"
     ]
    }
   ],
   "source": [
    "# Checking if it works\n",
    "print(assign_monthly_income_category(5000))\n",
    "print(assign_monthly_income_category(25000))\n",
    "print(assign_monthly_income_category(75000))"
   ]
  },
  {
   "cell_type": "markdown",
   "metadata": {},
   "source": [
    "The function seems to work correctly and we can apply it to the whole monthly_income column and create a new column monthly_income_category."
   ]
  },
  {
   "cell_type": "code",
   "execution_count": 61,
   "metadata": {},
   "outputs": [],
   "source": [
    "# Create a column with the categories and count the values for them\n",
    "data_base['monthly_income_category'] = data_base['monthly_income'].apply(assign_monthly_income_category)"
   ]
  },
  {
   "cell_type": "code",
   "execution_count": 62,
   "metadata": {},
   "outputs": [
    {
     "name": "stdout",
     "output_type": "stream",
     "text": [
      "middle    9406\n",
      "high      6545\n",
      "low       5503\n",
      "Name: monthly_income_category, dtype: int64\n"
     ]
    }
   ],
   "source": [
    "# Cheking the distribution \n",
    "print(data_base['monthly_income_category'].value_counts())"
   ]
  },
  {
   "cell_type": "code",
   "execution_count": 63,
   "metadata": {
    "scrolled": true
   },
   "outputs": [
    {
     "name": "stdout",
     "output_type": "stream",
     "text": [
      "<class 'pandas.core.frame.DataFrame'>\n",
      "RangeIndex: 21454 entries, 0 to 21453\n",
      "Data columns (total 15 columns):\n",
      " #   Column                   Non-Null Count  Dtype \n",
      "---  ------                   --------------  ----- \n",
      " 0   children                 21454 non-null  int64 \n",
      " 1   days_employed            21454 non-null  int64 \n",
      " 2   age                      21454 non-null  int64 \n",
      " 3   education                21454 non-null  object\n",
      " 4   education_id             21454 non-null  int64 \n",
      " 5   family_status            21454 non-null  object\n",
      " 6   family_status_id         21454 non-null  int64 \n",
      " 7   gender                   21454 non-null  object\n",
      " 8   income_type              21454 non-null  object\n",
      " 9   default                  21454 non-null  int64 \n",
      " 10  monthly_income           21454 non-null  int64 \n",
      " 11  purpose                  21454 non-null  object\n",
      " 12  age_category             21454 non-null  object\n",
      " 13  purpose_category         21454 non-null  object\n",
      " 14  monthly_income_category  21454 non-null  object\n",
      "dtypes: int64(7), object(8)\n",
      "memory usage: 2.5+ MB\n",
      "None\n"
     ]
    }
   ],
   "source": [
    "# Checking global info \n",
    "print(data_base.info())"
   ]
  },
  {
   "cell_type": "markdown",
   "metadata": {},
   "source": [
    "The distribution of the `monthly_income` between categories in our dataset and the size of the new column and the dataframe looks fine."
   ]
  },
  {
   "cell_type": "markdown",
   "metadata": {},
   "source": [
    "# Children"
   ]
  },
  {
   "cell_type": "markdown",
   "metadata": {},
   "source": [
    "Regarding the last column with values for categorization, we can devide it into 2 categories: one whith children and another one - without children. But since we have a range of data regarding children (for those who have children) from 1 to 5, it seems interesting to analize how the amount of children affect the default ratio. That's why we will create 3 categories:\n",
    "    no children\n",
    "    one child \n",
    "    many children \n",
    "\n",
    "For this purpose we will create a special funcrion "
   ]
  },
  {
   "cell_type": "code",
   "execution_count": 64,
   "metadata": {},
   "outputs": [],
   "source": [
    "# Creating function for categorizing into different numerical groups based on ranges\n",
    "def assign_children_category(children):\n",
    "    if children == 0:\n",
    "        return 'no children'\n",
    "    elif children == 1:\n",
    "        return 'one child'\n",
    "    else: return 'many children'"
   ]
  },
  {
   "cell_type": "code",
   "execution_count": 65,
   "metadata": {},
   "outputs": [
    {
     "name": "stdout",
     "output_type": "stream",
     "text": [
      "no children\n",
      "one child\n",
      "many children\n"
     ]
    }
   ],
   "source": [
    "# Checking if it works\n",
    "print(assign_children_category(0))\n",
    "print(assign_children_category(1))\n",
    "print(assign_children_category(5))"
   ]
  },
  {
   "cell_type": "markdown",
   "metadata": {},
   "source": [
    "The functions works accurate and we can apply it to the whole column. Then we check the distribution and the size of the new dataframe."
   ]
  },
  {
   "cell_type": "code",
   "execution_count": 66,
   "metadata": {},
   "outputs": [],
   "source": [
    "# Creating column with categories\n",
    "data_base['children_category'] = data_base['children'].apply(assign_children_category)"
   ]
  },
  {
   "cell_type": "code",
   "execution_count": 67,
   "metadata": {
    "scrolled": true
   },
   "outputs": [
    {
     "name": "stdout",
     "output_type": "stream",
     "text": [
      "no children      14091\n",
      "one child         4855\n",
      "many children     2508\n",
      "Name: children_category, dtype: int64\n"
     ]
    }
   ],
   "source": [
    "# Counting each categories values to see the distribution\n",
    "print(data_base['children_category'].value_counts())"
   ]
  },
  {
   "cell_type": "code",
   "execution_count": 68,
   "metadata": {
    "scrolled": true
   },
   "outputs": [
    {
     "name": "stdout",
     "output_type": "stream",
     "text": [
      "<class 'pandas.core.frame.DataFrame'>\n",
      "RangeIndex: 21454 entries, 0 to 21453\n",
      "Data columns (total 16 columns):\n",
      " #   Column                   Non-Null Count  Dtype \n",
      "---  ------                   --------------  ----- \n",
      " 0   children                 21454 non-null  int64 \n",
      " 1   days_employed            21454 non-null  int64 \n",
      " 2   age                      21454 non-null  int64 \n",
      " 3   education                21454 non-null  object\n",
      " 4   education_id             21454 non-null  int64 \n",
      " 5   family_status            21454 non-null  object\n",
      " 6   family_status_id         21454 non-null  int64 \n",
      " 7   gender                   21454 non-null  object\n",
      " 8   income_type              21454 non-null  object\n",
      " 9   default                  21454 non-null  int64 \n",
      " 10  monthly_income           21454 non-null  int64 \n",
      " 11  purpose                  21454 non-null  object\n",
      " 12  age_category             21454 non-null  object\n",
      " 13  purpose_category         21454 non-null  object\n",
      " 14  monthly_income_category  21454 non-null  object\n",
      " 15  children_category        21454 non-null  object\n",
      "dtypes: int64(7), object(9)\n",
      "memory usage: 2.6+ MB\n",
      "None\n"
     ]
    }
   ],
   "source": [
    "# Cheking general info\n",
    "print(data_base.info())"
   ]
  },
  {
   "cell_type": "markdown",
   "metadata": {},
   "source": [
    "The distribution and dataframe size look fine."
   ]
  },
  {
   "cell_type": "markdown",
   "metadata": {},
   "source": [
    "We have categorized data in 3 columns - one columns, containig text data (categorical/qualitive data) - purpose column - and two columns containing numeric data (quantative data) - number of children (children) and total income (monthly_income). Family_status column contains 5 values with one to one correspondance to family_status_id values, which can be used as a categories as they are. Now we can check if hypotheses we need to prove correct or not.   "
   ]
  },
  {
   "cell_type": "markdown",
   "metadata": {},
   "source": [
    "## Checking the Hypotheses\n"
   ]
  },
  {
   "cell_type": "markdown",
   "metadata": {},
   "source": [
    "**Is there a correlation between having children and paying back on time?**"
   ]
  },
  {
   "cell_type": "code",
   "execution_count": 69,
   "metadata": {},
   "outputs": [
    {
     "data": {
      "text/html": [
       "<div>\n",
       "<style scoped>\n",
       "    .dataframe tbody tr th:only-of-type {\n",
       "        vertical-align: middle;\n",
       "    }\n",
       "\n",
       "    .dataframe tbody tr th {\n",
       "        vertical-align: top;\n",
       "    }\n",
       "\n",
       "    .dataframe thead tr th {\n",
       "        text-align: left;\n",
       "    }\n",
       "\n",
       "    .dataframe thead tr:last-of-type th {\n",
       "        text-align: right;\n",
       "    }\n",
       "</style>\n",
       "<table border=\"1\" class=\"dataframe\">\n",
       "  <thead>\n",
       "    <tr>\n",
       "      <th></th>\n",
       "      <th></th>\n",
       "      <th>default</th>\n",
       "    </tr>\n",
       "    <tr>\n",
       "      <th></th>\n",
       "      <th></th>\n",
       "      <th>count</th>\n",
       "    </tr>\n",
       "    <tr>\n",
       "      <th>children_category</th>\n",
       "      <th>default</th>\n",
       "      <th></th>\n",
       "    </tr>\n",
       "  </thead>\n",
       "  <tbody>\n",
       "    <tr>\n",
       "      <th rowspan=\"2\" valign=\"top\">many children</th>\n",
       "      <th>0</th>\n",
       "      <td>2275</td>\n",
       "    </tr>\n",
       "    <tr>\n",
       "      <th>1</th>\n",
       "      <td>233</td>\n",
       "    </tr>\n",
       "    <tr>\n",
       "      <th rowspan=\"2\" valign=\"top\">no children</th>\n",
       "      <th>0</th>\n",
       "      <td>13028</td>\n",
       "    </tr>\n",
       "    <tr>\n",
       "      <th>1</th>\n",
       "      <td>1063</td>\n",
       "    </tr>\n",
       "    <tr>\n",
       "      <th rowspan=\"2\" valign=\"top\">one child</th>\n",
       "      <th>0</th>\n",
       "      <td>4410</td>\n",
       "    </tr>\n",
       "    <tr>\n",
       "      <th>1</th>\n",
       "      <td>445</td>\n",
       "    </tr>\n",
       "  </tbody>\n",
       "</table>\n",
       "</div>"
      ],
      "text/plain": [
       "                          default\n",
       "                            count\n",
       "children_category default        \n",
       "many children     0          2275\n",
       "                  1           233\n",
       "no children       0         13028\n",
       "                  1          1063\n",
       "one child         0          4410\n",
       "                  1           445"
      ]
     },
     "metadata": {},
     "output_type": "display_data"
    },
    {
     "name": "stdout",
     "output_type": "stream",
     "text": [
      "\n",
      "Default ratio for customer from many children category is 9.29%\n",
      "Default ratio for customer from no children category is 7.54%\n",
      "Default ratio for customer from one child category is 9.17%\n"
     ]
    }
   ],
   "source": [
    "# Checking the children data and paying back on time\n",
    "children_category_default = data_base.groupby(['children_category','default']).agg({'default':[\"count\"]})\n",
    "display(children_category_default)\n",
    "print()\n",
    "\n",
    "# Calculating default-rate based on the number of children\n",
    "def children_category_default_ratio(df, max_index, category_names):\n",
    "    count = 0\n",
    "    for i in range(1, max_index + 1, 2):\n",
    "        total = df.iloc[i] + df.iloc[i-1]\n",
    "        ratio  = (df.iloc[i] / total)[0]\n",
    "        print(f'Default ratio for customer from {category_names[count]} category is {ratio:.2%}')\n",
    "        count += 1\n",
    "\n",
    "# Applying function        \n",
    "children_category_default_ratio(children_category_default, 5, ['many children', 'no children', 'one child'])"
   ]
  },
  {
   "cell_type": "markdown",
   "metadata": {},
   "source": [
    "**Conclusion**\n",
    "\n",
    "One can see the affect of childrens' factor to the default ratio of the customer: customers without children perform the lowest deafault ratio of 7.54%, while for the customers having one child it's much higher - 9.17%. This ratio is even higher for customers having more then one child - 9.29%.\n"
   ]
  },
  {
   "cell_type": "markdown",
   "metadata": {},
   "source": [
    "**Is there a correlation between family status and paying back on time?**"
   ]
  },
  {
   "cell_type": "code",
   "execution_count": 70,
   "metadata": {},
   "outputs": [
    {
     "data": {
      "text/html": [
       "<div>\n",
       "<style scoped>\n",
       "    .dataframe tbody tr th:only-of-type {\n",
       "        vertical-align: middle;\n",
       "    }\n",
       "\n",
       "    .dataframe tbody tr th {\n",
       "        vertical-align: top;\n",
       "    }\n",
       "\n",
       "    .dataframe thead tr th {\n",
       "        text-align: left;\n",
       "    }\n",
       "\n",
       "    .dataframe thead tr:last-of-type th {\n",
       "        text-align: right;\n",
       "    }\n",
       "</style>\n",
       "<table border=\"1\" class=\"dataframe\">\n",
       "  <thead>\n",
       "    <tr>\n",
       "      <th></th>\n",
       "      <th></th>\n",
       "      <th>default</th>\n",
       "    </tr>\n",
       "    <tr>\n",
       "      <th></th>\n",
       "      <th></th>\n",
       "      <th>count</th>\n",
       "    </tr>\n",
       "    <tr>\n",
       "      <th>family_status</th>\n",
       "      <th>default</th>\n",
       "      <th></th>\n",
       "    </tr>\n",
       "  </thead>\n",
       "  <tbody>\n",
       "    <tr>\n",
       "      <th rowspan=\"2\" valign=\"top\">civil partnership</th>\n",
       "      <th>0</th>\n",
       "      <td>3763</td>\n",
       "    </tr>\n",
       "    <tr>\n",
       "      <th>1</th>\n",
       "      <td>388</td>\n",
       "    </tr>\n",
       "    <tr>\n",
       "      <th rowspan=\"2\" valign=\"top\">divorced</th>\n",
       "      <th>0</th>\n",
       "      <td>1110</td>\n",
       "    </tr>\n",
       "    <tr>\n",
       "      <th>1</th>\n",
       "      <td>85</td>\n",
       "    </tr>\n",
       "    <tr>\n",
       "      <th rowspan=\"2\" valign=\"top\">married</th>\n",
       "      <th>0</th>\n",
       "      <td>11408</td>\n",
       "    </tr>\n",
       "    <tr>\n",
       "      <th>1</th>\n",
       "      <td>931</td>\n",
       "    </tr>\n",
       "    <tr>\n",
       "      <th rowspan=\"2\" valign=\"top\">unmarried</th>\n",
       "      <th>0</th>\n",
       "      <td>2536</td>\n",
       "    </tr>\n",
       "    <tr>\n",
       "      <th>1</th>\n",
       "      <td>274</td>\n",
       "    </tr>\n",
       "    <tr>\n",
       "      <th rowspan=\"2\" valign=\"top\">widow / widower</th>\n",
       "      <th>0</th>\n",
       "      <td>896</td>\n",
       "    </tr>\n",
       "    <tr>\n",
       "      <th>1</th>\n",
       "      <td>63</td>\n",
       "    </tr>\n",
       "  </tbody>\n",
       "</table>\n",
       "</div>"
      ],
      "text/plain": [
       "                          default\n",
       "                            count\n",
       "family_status     default        \n",
       "civil partnership 0          3763\n",
       "                  1           388\n",
       "divorced          0          1110\n",
       "                  1            85\n",
       "married           0         11408\n",
       "                  1           931\n",
       "unmarried         0          2536\n",
       "                  1           274\n",
       "widow / widower   0           896\n",
       "                  1            63"
      ]
     },
     "metadata": {},
     "output_type": "display_data"
    },
    {
     "name": "stdout",
     "output_type": "stream",
     "text": [
      "\n",
      "Default ratio for customer from civil partnership is 9.35%\n",
      "Default ratio for customer from divorced is 7.11%\n",
      "Default ratio for customer from married is 7.55%\n",
      "Default ratio for customer from unmarried is 9.75%\n",
      "Default ratio for customer from widow / widower is 6.57%\n"
     ]
    }
   ],
   "source": [
    "# Check the family status data and paying back on time\n",
    "family_status_default = data_base.groupby(['family_status','default']).agg({'default':[\"count\"]})\n",
    "display(family_status_default)\n",
    "print()\n",
    "\n",
    "# Calculating default-rate based on family status\n",
    "\n",
    "def family_status_default_ratio(df, max_index, category_names):\n",
    "    count = 0\n",
    "    for i in range(1, max_index + 1, 2):\n",
    "        total = df.iloc[i] + df.iloc[i-1]\n",
    "        ratio  = (df.iloc[i] / total)[0]\n",
    "        print(f'Default ratio for customer from {category_names[count]} is {ratio:.2%}')\n",
    "        count += 1\n",
    "# Applying function        \n",
    "family_status_default_ratio(family_status_default, 9, ['civil partnership', 'divorced', 'married', \n",
    "                                                       'unmarried', 'widow / widower'])\n"
   ]
  },
  {
   "cell_type": "markdown",
   "metadata": {},
   "source": [
    "**Conclusion**\n",
    "\n",
    "There is a strong correlation betweуn martial status and paying back on time. The highest score in this category belongs to widows/widowers - 6.57% default ratio, while unmarried customers shows the worst result of 9.75% default ratio. Between them divodced customers with 7.11%, married customers with 7.55% and civil partnerships with 9.35% are located. "
   ]
  },
  {
   "cell_type": "markdown",
   "metadata": {},
   "source": [
    "**Is there a correlation between income level and paying back on time?**"
   ]
  },
  {
   "cell_type": "code",
   "execution_count": 71,
   "metadata": {
    "scrolled": true
   },
   "outputs": [
    {
     "data": {
      "text/html": [
       "<div>\n",
       "<style scoped>\n",
       "    .dataframe tbody tr th:only-of-type {\n",
       "        vertical-align: middle;\n",
       "    }\n",
       "\n",
       "    .dataframe tbody tr th {\n",
       "        vertical-align: top;\n",
       "    }\n",
       "\n",
       "    .dataframe thead tr th {\n",
       "        text-align: left;\n",
       "    }\n",
       "\n",
       "    .dataframe thead tr:last-of-type th {\n",
       "        text-align: right;\n",
       "    }\n",
       "</style>\n",
       "<table border=\"1\" class=\"dataframe\">\n",
       "  <thead>\n",
       "    <tr>\n",
       "      <th></th>\n",
       "      <th></th>\n",
       "      <th>default</th>\n",
       "    </tr>\n",
       "    <tr>\n",
       "      <th></th>\n",
       "      <th></th>\n",
       "      <th>count</th>\n",
       "    </tr>\n",
       "    <tr>\n",
       "      <th>monthly_income_category</th>\n",
       "      <th>default</th>\n",
       "      <th></th>\n",
       "    </tr>\n",
       "  </thead>\n",
       "  <tbody>\n",
       "    <tr>\n",
       "      <th rowspan=\"2\" valign=\"top\">high</th>\n",
       "      <th>0</th>\n",
       "      <td>6062</td>\n",
       "    </tr>\n",
       "    <tr>\n",
       "      <th>1</th>\n",
       "      <td>483</td>\n",
       "    </tr>\n",
       "    <tr>\n",
       "      <th rowspan=\"2\" valign=\"top\">low</th>\n",
       "      <th>0</th>\n",
       "      <td>5064</td>\n",
       "    </tr>\n",
       "    <tr>\n",
       "      <th>1</th>\n",
       "      <td>439</td>\n",
       "    </tr>\n",
       "    <tr>\n",
       "      <th rowspan=\"2\" valign=\"top\">middle</th>\n",
       "      <th>0</th>\n",
       "      <td>8587</td>\n",
       "    </tr>\n",
       "    <tr>\n",
       "      <th>1</th>\n",
       "      <td>819</td>\n",
       "    </tr>\n",
       "  </tbody>\n",
       "</table>\n",
       "</div>"
      ],
      "text/plain": [
       "                                default\n",
       "                                  count\n",
       "monthly_income_category default        \n",
       "high                    0          6062\n",
       "                        1           483\n",
       "low                     0          5064\n",
       "                        1           439\n",
       "middle                  0          8587\n",
       "                        1           819"
      ]
     },
     "metadata": {},
     "output_type": "display_data"
    },
    {
     "name": "stdout",
     "output_type": "stream",
     "text": [
      "\n",
      "Default ratio for customer from high is 7.38%\n",
      "Default ratio for customer from low is 7.98%\n",
      "Default ratio for customer from middle is 8.71%\n"
     ]
    }
   ],
   "source": [
    "# Check the income level data and paying back on time\n",
    "monthly_income_category_default = data_base.groupby(['monthly_income_category','default']).agg({'default':[\"count\"]})\n",
    "display(monthly_income_category_default)\n",
    "print()\n",
    "\n",
    "# Calculating default-rate based on income level\n",
    "\n",
    "def monthly_income_category_default_ratio(df, max_index, category_names):\n",
    "    count = 0\n",
    "    for i in range(1, max_index + 1, 2):\n",
    "        total = df.iloc[i] + df.iloc[i-1]\n",
    "        ratio  = (df.iloc[i] / total)[0]\n",
    "        print(f'Default ratio for customer from {category_names[count]} is {ratio:.2%}')\n",
    "        count += 1\n",
    "\n",
    "# Applying function        \n",
    "monthly_income_category_default_ratio(monthly_income_category_default, 5, ['high', 'low', 'middle'])"
   ]
  },
  {
   "cell_type": "markdown",
   "metadata": {},
   "source": [
    "**Conclusion**\n",
    "\n",
    "Our reseach shows that customers with middle level income performs the higher level of default ratio of 8.71%, while the minimum level of default of 7.38% refers to the customers with hihg level of income. Customers with low income shows middle default rate of 7.98%"
   ]
  },
  {
   "cell_type": "markdown",
   "metadata": {},
   "source": [
    "**How does credit purpose affect the default rate?**"
   ]
  },
  {
   "cell_type": "code",
   "execution_count": 72,
   "metadata": {},
   "outputs": [
    {
     "data": {
      "text/html": [
       "<div>\n",
       "<style scoped>\n",
       "    .dataframe tbody tr th:only-of-type {\n",
       "        vertical-align: middle;\n",
       "    }\n",
       "\n",
       "    .dataframe tbody tr th {\n",
       "        vertical-align: top;\n",
       "    }\n",
       "\n",
       "    .dataframe thead tr th {\n",
       "        text-align: left;\n",
       "    }\n",
       "\n",
       "    .dataframe thead tr:last-of-type th {\n",
       "        text-align: right;\n",
       "    }\n",
       "</style>\n",
       "<table border=\"1\" class=\"dataframe\">\n",
       "  <thead>\n",
       "    <tr>\n",
       "      <th></th>\n",
       "      <th></th>\n",
       "      <th>default</th>\n",
       "    </tr>\n",
       "    <tr>\n",
       "      <th></th>\n",
       "      <th></th>\n",
       "      <th>count</th>\n",
       "    </tr>\n",
       "    <tr>\n",
       "      <th>purpose_category</th>\n",
       "      <th>default</th>\n",
       "      <th></th>\n",
       "    </tr>\n",
       "  </thead>\n",
       "  <tbody>\n",
       "    <tr>\n",
       "      <th rowspan=\"2\" valign=\"top\">car loan</th>\n",
       "      <th>0</th>\n",
       "      <td>3903</td>\n",
       "    </tr>\n",
       "    <tr>\n",
       "      <th>1</th>\n",
       "      <td>403</td>\n",
       "    </tr>\n",
       "    <tr>\n",
       "      <th rowspan=\"2\" valign=\"top\">commercial real estate</th>\n",
       "      <th>0</th>\n",
       "      <td>1811</td>\n",
       "    </tr>\n",
       "    <tr>\n",
       "      <th>1</th>\n",
       "      <td>151</td>\n",
       "    </tr>\n",
       "    <tr>\n",
       "      <th rowspan=\"2\" valign=\"top\">construction and rennovation</th>\n",
       "      <th>0</th>\n",
       "      <td>2306</td>\n",
       "    </tr>\n",
       "    <tr>\n",
       "      <th>1</th>\n",
       "      <td>179</td>\n",
       "    </tr>\n",
       "    <tr>\n",
       "      <th rowspan=\"2\" valign=\"top\">education</th>\n",
       "      <th>0</th>\n",
       "      <td>3643</td>\n",
       "    </tr>\n",
       "    <tr>\n",
       "      <th>1</th>\n",
       "      <td>370</td>\n",
       "    </tr>\n",
       "    <tr>\n",
       "      <th rowspan=\"2\" valign=\"top\">other real estate</th>\n",
       "      <th>0</th>\n",
       "      <td>4168</td>\n",
       "    </tr>\n",
       "    <tr>\n",
       "      <th>1</th>\n",
       "      <td>332</td>\n",
       "    </tr>\n",
       "    <tr>\n",
       "      <th rowspan=\"2\" valign=\"top\">residentail real estate</th>\n",
       "      <th>0</th>\n",
       "      <td>1744</td>\n",
       "    </tr>\n",
       "    <tr>\n",
       "      <th>1</th>\n",
       "      <td>120</td>\n",
       "    </tr>\n",
       "    <tr>\n",
       "      <th rowspan=\"2\" valign=\"top\">wedding</th>\n",
       "      <th>0</th>\n",
       "      <td>2138</td>\n",
       "    </tr>\n",
       "    <tr>\n",
       "      <th>1</th>\n",
       "      <td>186</td>\n",
       "    </tr>\n",
       "  </tbody>\n",
       "</table>\n",
       "</div>"
      ],
      "text/plain": [
       "                                     default\n",
       "                                       count\n",
       "purpose_category             default        \n",
       "car loan                     0          3903\n",
       "                             1           403\n",
       "commercial real estate       0          1811\n",
       "                             1           151\n",
       "construction and rennovation 0          2306\n",
       "                             1           179\n",
       "education                    0          3643\n",
       "                             1           370\n",
       "other real estate            0          4168\n",
       "                             1           332\n",
       "residentail real estate      0          1744\n",
       "                             1           120\n",
       "wedding                      0          2138\n",
       "                             1           186"
      ]
     },
     "metadata": {},
     "output_type": "display_data"
    },
    {
     "name": "stdout",
     "output_type": "stream",
     "text": [
      "\n",
      "Default ratio for customer from car loan is 9.36%\n",
      "Default ratio for customer from commercial real estate is 7.70%\n",
      "Default ratio for customer from construction and rennovation is 7.20%\n",
      "Default ratio for customer from education is 9.22%\n",
      "Default ratio for customer from other real estate is 7.38%\n",
      "Default ratio for customer from residential real estate is 6.44%\n",
      "Default ratio for customer from wedding is 8.00%\n"
     ]
    }
   ],
   "source": [
    "# Check the percentages for default rate for each credit purpose and analyze them\n",
    "\n",
    "purpose_category_default = data_base.groupby(['purpose_category','default']).agg({'default':[\"count\"]})\n",
    "display(purpose_category_default)\n",
    "print()\n",
    "\n",
    "# Defining function\n",
    "def purpose_category_default_ratio(df, max_index, category_names):\n",
    "    count = 0\n",
    "    for i in range(1, max_index + 1, 2):\n",
    "        total = df.iloc[i] + df.iloc[i-1]\n",
    "        ratio  = (df.iloc[i] / total)[0]\n",
    "        print(f'Default ratio for customer from {category_names[count]} is {ratio:.2%}')\n",
    "        count += 1\n",
    "\n",
    "# Applying function        \n",
    "purpose_category_default_ratio(purpose_category_default, 13, ['car loan', 'commercial real estate', \n",
    "                                                              'construction and rennovation', 'education', \n",
    "                                                              'other real estate', \n",
    "                                                              'residential real estate', 'wedding'])"
   ]
  },
  {
   "cell_type": "markdown",
   "metadata": {},
   "source": [
    "**Conclusion**\n",
    "\n",
    "Based on the dataset provided we can conclude, that different purpose of credit shows very different default ratios varies from 6.44% for morgage and up to 9.36% for car loans. In general all real estate related loans, including those for construction and rennovation (7.20%), commercial real estate (7.70%) and othe real estate related loans (7.38%) shows lower default levels in comparison with loans for education (9.22%) and wedding preparations (8.00%).  \n"
   ]
  },
  {
   "cell_type": "markdown",
   "metadata": {},
   "source": [
    "# General Conclusion \n",
    "\n",
    "During the analysis of the dataset provided we had to check data integrity, find impossible and missing values and replace them with the most accurate values. There was established and proved symmetric character of missing values in two columns - monthly_income and days-employed in total amount of 10% of the whole dataframe. The data in days_employed column were found totally impossible with 17.8% of positive values exceeding all human beings abilities and the rest consisted of negative values. There were esablished some impossible values in age column and upper case texting in education column.  The purpose column contained a lot of entries, where the same purpose was texted in different word forms and/or expressions (there were potentially a number of duplicated rows regarding this issue, but to establish theese duplicates correctly we need more external information). Three columns in this dataset contained perfect data (education, education_id and income_type_id columns).\n",
    "\n",
    "In order to perform our analysis we need to decide the right methods to fix all the above mentioned issues. The easiest issue with upper case letters in education column was resolved with pandas method. In the age column 0 age values were replaced with mean ages for the certain gender. In the children column negative values were replaced by positive ones with the same absolute value and the extraordinary erroneus value of 20 children was reduced to 2. \n",
    "\n",
    "71 duplicates were found after fixing issues in education, age and columns.\n",
    "\n",
    "Regarding two most serious issues with missing values the following conclusions were made. For days_employed values all negative entries were replaced by positive ones with the same absolute value. All impossible values were replaced with a special function for the calculated values with regard to the gender and age of the customer. Since data from days_employed column do not present in the project goals thees replacements do not affect our conclusions.\n",
    "\n",
    "For monthly_income column the descision was to replace missing values to the medians of the respective categories filtered on education and gender.\n",
    "\n",
    "\n",
    "\n",
    "1. One can see the affect of childrens' factor to the default ratio of the customer: customers without children perform the lowest deafault ratio of 7.54%, while for the customers having one child it's much higher - 9.17%. This ratio is even higher for customers having more then one child - 9.29%.\n",
    "\n",
    "2. There is a strong correlation betweуn martial status and paying back on time. The highest score in this category belongs to widows/widowers - 6.57% default ratio, while unmarried customers shows the worst result of 9.75% default ratio. Between them divodced customers with 7.11%, married customers with 7.55% and civil partnerships with 9.35% are located. \n",
    "\n",
    "3. Our reseach shows that customers with middle level income performs the higher level of default ratio of 8.71%, while the minimum level of default of 7.38% refers to the customers with hihg level of income. Customers with low income shows middle default rate of 7.98%\n",
    "\n",
    "4. Based on the dataset provided we can conclude, that different purpose of credit shows very different default ratios varies from 6.44% for morgage and up to 9.36% for car loans. In general all real estate related loans, including those for construction and rennovation (7.20%), commercial real estate (7.70%) and othe real estate related loans (7.38%) shows lower default levels in comparison with loans for education (9.22%) and wedding preparations (8.00%).  \n"
   ]
  }
 ],
 "metadata": {
  "ExecuteTimeLog": [
   {
    "duration": 2741,
    "start_time": "2021-10-21T01:08:49.480Z"
   },
   {
    "duration": 52,
    "start_time": "2021-10-21T01:08:53.315Z"
   },
   {
    "duration": 49,
    "start_time": "2021-10-21T01:08:57.432Z"
   },
   {
    "duration": 70,
    "start_time": "2021-10-21T01:09:07.706Z"
   }
  ],
  "kernelspec": {
   "display_name": "Python 3 (ipykernel)",
   "language": "python",
   "name": "python3"
  },
  "language_info": {
   "codemirror_mode": {
    "name": "ipython",
    "version": 3
   },
   "file_extension": ".py",
   "mimetype": "text/x-python",
   "name": "python",
   "nbconvert_exporter": "python",
   "pygments_lexer": "ipython3",
   "version": "3.9.5"
  },
  "toc": {
   "base_numbering": 1,
   "nav_menu": {},
   "number_sections": true,
   "sideBar": true,
   "skip_h1_title": true,
   "title_cell": "Table of Contents",
   "title_sidebar": "Contents",
   "toc_cell": false,
   "toc_position": {},
   "toc_section_display": true,
   "toc_window_display": true
  }
 },
 "nbformat": 4,
 "nbformat_minor": 2
}
